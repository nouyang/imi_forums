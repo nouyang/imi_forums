{
 "cells": [
  {
   "cell_type": "code",
   "execution_count": 2,
   "metadata": {},
   "outputs": [],
   "source": [
    "# Src: ### Author: [Marco Tavora](http://www.marcotavora.me/)"
   ]
  },
  {
   "cell_type": "code",
   "execution_count": 22,
   "metadata": {},
   "outputs": [],
   "source": [
    "import pandas as pd\n",
    "from IPython.core.interactiveshell import InteractiveShell\n",
    "InteractiveShell.ast_node_interactivity = \"all\" # see the value of multiple statements at once.\n",
    "pd.set_option('display.max_columns', None)\n",
    "pd.set_option('display.max_rows', None)"
   ]
  },
  {
   "cell_type": "code",
   "execution_count": 26,
   "metadata": {},
   "outputs": [],
   "source": [
    "#!python -m spacy download en_core_web_sm"
   ]
  },
  {
   "cell_type": "code",
   "execution_count": 27,
   "metadata": {},
   "outputs": [
    {
     "data": {
      "text/plain": [
       "<spacy.lang.en.English at 0x28f076650>"
      ]
     },
     "execution_count": 27,
     "metadata": {},
     "output_type": "execute_result"
    }
   ],
   "source": [
    "import spacy\n",
    "spacy.load('en_core_web_sm')\n",
    "from spacy.lang.en import English\n",
    "parser = English()"
   ]
  },
  {
   "cell_type": "code",
   "execution_count": 28,
   "metadata": {},
   "outputs": [
    {
     "name": "stdout",
     "output_type": "stream",
     "text": [
      "0 - EDA.ipynb\n",
      "1 - Analysis.ipynb\n",
      "ampreviews_scraped_forum_dataframe.joblib\n",
      "ampreviews_text.csv\n",
      "bs4_example_pt2.ipynb\n",
      "list_urls.txt\n",
      "notes_on_ampreviews_structure.md\n",
      "topic-modeling-lda.ipynb\n"
     ]
    }
   ],
   "source": [
    "!ls"
   ]
  },
  {
   "cell_type": "code",
   "execution_count": 29,
   "metadata": {
    "scrolled": false
   },
   "outputs": [
    {
     "data": {
      "text/html": [
       "<div>\n",
       "<style scoped>\n",
       "    .dataframe tbody tr th:only-of-type {\n",
       "        vertical-align: middle;\n",
       "    }\n",
       "\n",
       "    .dataframe tbody tr th {\n",
       "        vertical-align: top;\n",
       "    }\n",
       "\n",
       "    .dataframe thead th {\n",
       "        text-align: right;\n",
       "    }\n",
       "</style>\n",
       "<table border=\"1\" class=\"dataframe\">\n",
       "  <thead>\n",
       "    <tr style=\"text-align: right;\">\n",
       "      <th></th>\n",
       "      <th>msg_text</th>\n",
       "    </tr>\n",
       "  </thead>\n",
       "  <tbody>\n",
       "    <tr>\n",
       "      <th>50</th>\n",
       "      <td>\\nDid Hibiki move over to JPK? or back to Japa...</td>\n",
       "    </tr>\n",
       "    <tr>\n",
       "      <th>43</th>\n",
       "      <td>\\nTitle: Review: Hibiki- Pleasure Palace\\nDate...</td>\n",
       "    </tr>\n",
       "  </tbody>\n",
       "</table>\n",
       "</div>"
      ],
      "text/plain": [
       "                                             msg_text\n",
       "50  \\nDid Hibiki move over to JPK? or back to Japa...\n",
       "43  \\nTitle: Review: Hibiki- Pleasure Palace\\nDate..."
      ]
     },
     "execution_count": 29,
     "metadata": {},
     "output_type": "execute_result"
    }
   ],
   "source": [
    "df = pd.read_csv('ampreviews_text.csv')\n",
    "#df.columns = ['titles']\n",
    "#df.shape\n",
    "#df.head()\n",
    "df.sample(n=2)"
   ]
  },
  {
   "cell_type": "code",
   "execution_count": 30,
   "metadata": {},
   "outputs": [
    {
     "name": "stdout",
     "output_type": "stream",
     "text": [
      "['\\nIs hard to narrow down to \"the one\" , I do find myself booking the same girls every time...\\nLKS - Jennie, but she only do doubles on weekends now.\\nLSC - Izzy, but her looks will take a few points off.\\nBGC - Kimmy, but she will be gone in 3 weeks.\\n\\xa0\\n', '\\nI will take Joah, Binna and Irene over any girls in those orgs\\n\\xa0\\n', '\\nMila, Adela, Daya at this time\\n\\xa0\\n', '\\nSeri, soda, Irene\\n\\xa0\\n', '\\nLKS - Adel\\nLSC - Rose\\nBGC - Margo\\n\\xa0\\n', '\\nDamn some dudes are lucky enough to be verified for all these 3 orgs!\\n\\xa0\\n', '\\nProbably old schoolers that got in before the all the new stricter verif process\\n\\xa0\\n', '\\nLKS - Jennie (that foursome with Sarah and Niay, wow, I need to make that happen)\\nLSC - Sunny\\nBGC - Daya (ymmv but hottest out there for sure)\\n\\xa0\\n', \"I'm new here.  May I get link for all 3 orgs and try my luck to get verified?  TIA\", '\\nGo here for links\\nBayareakoreangirls.com\\n\\xa0\\n']\n"
     ]
    }
   ],
   "source": [
    "doc_set = df.values.T.tolist()[0]\n",
    "print(doc_set[0:10])"
   ]
  },
  {
   "cell_type": "code",
   "execution_count": 31,
   "metadata": {},
   "outputs": [],
   "source": [
    "import nltk\n",
    "from nltk.stem import WordNetLemmatizer\n",
    "from nltk.stem import SnowballStemmer \n",
    "from nltk.stem.porter import PorterStemmer"
   ]
  },
  {
   "cell_type": "code",
   "execution_count": 32,
   "metadata": {},
   "outputs": [],
   "source": [
    "#stemmer = PorterStemmer()\n",
    "stemmer = SnowballStemmer(language='english')\n",
    "lemmatizer = WordNetLemmatizer()"
   ]
  },
  {
   "cell_type": "code",
   "execution_count": 33,
   "metadata": {},
   "outputs": [],
   "source": [
    "from nltk.tokenize import RegexpTokenizer\n",
    "tokenizer = RegexpTokenizer(r'\\w+')"
   ]
  },
  {
   "cell_type": "markdown",
   "metadata": {},
   "source": [
    "### Build a list of lists of tokens "
   ]
  },
  {
   "cell_type": "code",
   "execution_count": 34,
   "metadata": {},
   "outputs": [
    {
     "name": "stdout",
     "output_type": "stream",
     "text": [
      "[['is', 'hard', 'to', 'narrow', 'down', 'to', 'the', 'one', 'i', 'do', 'find', 'myself', 'booking', 'the', 'same', 'girls', 'every', 'time', 'lks', 'jennie', 'but', 'she', 'only', 'do', 'doubles', 'on', 'weekends', 'now', 'lsc', 'izzy', 'but', 'her', 'looks', 'will', 'take', 'a', 'few', 'points', 'off', 'bgc', 'kimmy', 'but', 'she', 'will', 'be', 'gone', 'in', '3', 'weeks'], ['i', 'will', 'take', 'joah', 'binna', 'and', 'irene', 'over', 'any', 'girls', 'in', 'those', 'orgs'], ['mila', 'adela', 'daya', 'at', 'this', 'time']]\n"
     ]
    }
   ],
   "source": [
    "tokenined_docs = []\n",
    "for doc in doc_set:\n",
    "    tokens = tokenizer.tokenize(doc.lower())\n",
    "    tokenined_docs.append(tokens)\n",
    "    \n",
    "print(tokenined_docs[0:3])"
   ]
  },
  {
   "cell_type": "code",
   "execution_count": 35,
   "metadata": {},
   "outputs": [
    {
     "name": "stderr",
     "output_type": "stream",
     "text": [
      "[nltk_data] Downloading package wordnet to /Users/owls/nltk_data...\n",
      "[nltk_data]   Package wordnet is already up-to-date!\n"
     ]
    },
    {
     "data": {
      "text/plain": [
       "True"
      ]
     },
     "execution_count": 35,
     "metadata": {},
     "output_type": "execute_result"
    },
    {
     "name": "stderr",
     "output_type": "stream",
     "text": [
      "[nltk_data] Downloading package omw-1.4 to /Users/owls/nltk_data...\n",
      "[nltk_data]   Package omw-1.4 is already up-to-date!\n"
     ]
    },
    {
     "data": {
      "text/plain": [
       "True"
      ]
     },
     "execution_count": 35,
     "metadata": {},
     "output_type": "execute_result"
    }
   ],
   "source": [
    "nltk.download('wordnet')\n",
    "nltk.download('omw-1.4')"
   ]
  },
  {
   "cell_type": "markdown",
   "metadata": {},
   "source": [
    "### Apply lemmatizing"
   ]
  },
  {
   "cell_type": "code",
   "execution_count": 36,
   "metadata": {},
   "outputs": [
    {
     "name": "stdout",
     "output_type": "stream",
     "text": [
      "[['is', 'hard', 'to', 'narrow', 'down', 'to', 'the', 'one', 'i', 'do', 'find', 'myself', 'booking', 'the', 'same', 'girl', 'every', 'time', 'lks', 'jennie', 'but', 'she', 'only', 'do', 'double', 'on', 'weekend', 'now', 'lsc', 'izzy', 'but', 'her', 'look', 'will', 'take', 'a', 'few', 'point', 'off', 'bgc', 'kimmy', 'but', 'she', 'will', 'be', 'gone', 'in', '3', 'week'], ['i', 'will', 'take', 'joah', 'binna', 'and', 'irene', 'over', 'any', 'girl', 'in', 'those', 'orgs'], ['mila', 'adela', 'daya', 'at', 'this', 'time']]\n"
     ]
    }
   ],
   "source": [
    "lemmatized_tokens = []\n",
    "for lst in tokenined_docs:\n",
    "    tokens_lemma = [lemmatizer.lemmatize(i) for i in lst]\n",
    "    lemmatized_tokens.append(tokens_lemma)\n",
    "    \n",
    "print(lemmatized_tokens[0:3])"
   ]
  },
  {
   "cell_type": "markdown",
   "metadata": {},
   "source": [
    "### Dropping stopwords and words with less than $n$ letters"
   ]
  },
  {
   "cell_type": "code",
   "execution_count": 37,
   "metadata": {},
   "outputs": [
    {
     "name": "stderr",
     "output_type": "stream",
     "text": [
      "[nltk_data] Downloading package stopwords to /Users/owls/nltk_data...\n",
      "[nltk_data]   Package stopwords is already up-to-date!\n"
     ]
    },
    {
     "data": {
      "text/plain": [
       "True"
      ]
     },
     "execution_count": 37,
     "metadata": {},
     "output_type": "execute_result"
    }
   ],
   "source": [
    "nltk.download('stopwords')"
   ]
  },
  {
   "cell_type": "code",
   "execution_count": 38,
   "metadata": {},
   "outputs": [],
   "source": [
    "from nltk.corpus import stopwords\n",
    "en_stop_words = stopwords.words('english')\n"
   ]
  },
  {
   "cell_type": "code",
   "execution_count": 39,
   "metadata": {},
   "outputs": [
    {
     "name": "stdout",
     "output_type": "stream",
     "text": [
      "[['hard', 'narrow', 'find', 'booking', 'girl', 'every', 'time', 'jennie', 'double', 'weekend', 'izzy', 'look', 'take', 'point', 'kimmy', 'gone', 'week'], ['take', 'joah', 'binna', 'irene', 'girl', 'orgs'], ['mila', 'adela', 'daya', 'time']]\n"
     ]
    }
   ],
   "source": [
    "n=3\n",
    "tokens = []\n",
    "for lst in lemmatized_tokens:\n",
    "    tokens.append([i for i in lst if not i in en_stop_words if len(i) > n])\n",
    "\n",
    "print(tokens[0:3])"
   ]
  },
  {
   "cell_type": "markdown",
   "metadata": {},
   "source": [
    "## Document-term matrix\n",
    "\n",
    "[[go back to the top]](#Table-of-contents)\n",
    "\n",
    "I will now generate an LDA model and for that, the frequency that each term occurs within each document needs to be understood.\n",
    "\n",
    "A **document-term matrix** is constructed to do that. It contains a corpus of $n$ documents and a vocabulary of $m$ words. Each cell $ij$ counts the frequency of the word $j$ in the document $i$."
   ]
  },
  {
   "cell_type": "markdown",
   "metadata": {},
   "source": [
    "## Tokens into dictionary\n",
    "\n",
    "[[go back to the top]](#Table-of-contents)"
   ]
  },
  {
   "cell_type": "code",
   "execution_count": 40,
   "metadata": {},
   "outputs": [],
   "source": [
    "from gensim import corpora, models\n",
    "\n",
    "dictionary = corpora.Dictionary(tokens)"
   ]
  },
  {
   "cell_type": "markdown",
   "metadata": {},
   "source": [
    "## Tokenize documents into document-term matrix\n",
    "\n",
    "[[go back to the top]](#Table-of-contents)"
   ]
  },
  {
   "cell_type": "code",
   "execution_count": 41,
   "metadata": {},
   "outputs": [],
   "source": [
    "corpus = [dictionary.doc2bow(text) for text in tokens]\n",
    "\n",
    "import pickle\n",
    "pickle.dump(corpus, open('corpus.pkl', 'wb'))\n",
    "dictionary.save('dictionary.gensim')"
   ]
  },
  {
   "cell_type": "code",
   "execution_count": 42,
   "metadata": {},
   "outputs": [
    {
     "data": {
      "text/plain": [
       "[(0, 1),\n",
       " (1, 1),\n",
       " (2, 1),\n",
       " (3, 1),\n",
       " (4, 1),\n",
       " (5, 1),\n",
       " (6, 1),\n",
       " (7, 1),\n",
       " (8, 1),\n",
       " (9, 1),\n",
       " (10, 1),\n",
       " (11, 1),\n",
       " (12, 1),\n",
       " (13, 1),\n",
       " (14, 1),\n",
       " (15, 1),\n",
       " (16, 1)]"
      ]
     },
     "execution_count": 42,
     "metadata": {},
     "output_type": "execute_result"
    }
   ],
   "source": [
    "corpus[0]"
   ]
  },
  {
   "cell_type": "markdown",
   "metadata": {},
   "source": [
    "## LDA model"
   ]
  },
  {
   "cell_type": "markdown",
   "metadata": {},
   "source": [
    "## LDA model"
   ]
  },
  {
   "cell_type": "code",
   "execution_count": 43,
   "metadata": {},
   "outputs": [],
   "source": [
    "import gensim\n",
    "ldamodel_3 = gensim.models.ldamodel.LdaModel(corpus, num_topics=3, id2word = dictionary, passes=20)\n",
    "ldamodel_3.save('model3.gensim')\n",
    "ldamodel_4 = gensim.models.ldamodel.LdaModel(corpus, num_topics=3, id2word = dictionary, passes=20)\n",
    "ldamodel_4.save('model4.gensim')"
   ]
  },
  {
   "cell_type": "code",
   "execution_count": 44,
   "metadata": {},
   "outputs": [
    {
     "name": "stdout",
     "output_type": "stream",
     "text": [
      "(0, '0.019*\"back\" + 0.019*\"girl\" + 0.014*\"great\"') \n",
      "\n",
      "(1, '0.027*\"time\" + 0.021*\"would\" + 0.018*\"photo\"') \n",
      "\n",
      "(2, '0.030*\"review\" + 0.015*\"city\" + 0.015*\"photo\"') \n",
      "\n"
     ]
    }
   ],
   "source": [
    "for el in ldamodel_3.print_topics(num_topics=3, num_words=3):\n",
    "    print(el,'\\n')"
   ]
  },
  {
   "cell_type": "code",
   "execution_count": 45,
   "metadata": {},
   "outputs": [
    {
     "name": "stdout",
     "output_type": "stream",
     "text": [
      "(0, '0.026*\"girl\" + 0.023*\"time\" + 0.014*\"back\"') \n",
      "\n",
      "(1, '0.026*\"kaori\" + 0.013*\"look\" + 0.013*\"good\"') \n",
      "\n",
      "(2, '0.028*\"review\" + 0.027*\"photo\" + 0.016*\"city\"') \n",
      "\n"
     ]
    }
   ],
   "source": [
    "for el in ldamodel_4.print_topics(num_topics=3, num_words=3):\n",
    "    print(el,'\\n')"
   ]
  },
  {
   "cell_type": "code",
   "execution_count": 46,
   "metadata": {},
   "outputs": [],
   "source": [
    "dictionary = gensim.corpora.Dictionary.load('dictionary.gensim')"
   ]
  },
  {
   "cell_type": "code",
   "execution_count": 47,
   "metadata": {},
   "outputs": [],
   "source": [
    "corpus = pickle.load(open('corpus.pkl', 'rb'))"
   ]
  },
  {
   "cell_type": "code",
   "execution_count": 48,
   "metadata": {},
   "outputs": [],
   "source": [
    "lda = gensim.models.ldamodel.LdaModel.load('model3.gensim')"
   ]
  },
  {
   "cell_type": "code",
   "execution_count": 49,
   "metadata": {},
   "outputs": [
    {
     "name": "stderr",
     "output_type": "stream",
     "text": [
      "/Users/owls/v3/lib/python3.10/site-packages/past/builtins/misc.py:45: DeprecationWarning: the imp module is deprecated in favour of importlib and slated for removal in Python 3.12; see the module's documentation for alternative uses\n",
      "  from imp import reload\n"
     ]
    }
   ],
   "source": [
    "import pyLDAvis.gensim_models\n"
   ]
  },
  {
   "cell_type": "code",
   "execution_count": 50,
   "metadata": {},
   "outputs": [
    {
     "name": "stderr",
     "output_type": "stream",
     "text": [
      "/Users/owls/v3/lib/python3.10/site-packages/pyLDAvis/_prepare.py:247: FutureWarning: In a future version of pandas all arguments of DataFrame.drop except for the argument 'labels' will be keyword-only.\n",
      "  by='saliency', ascending=False).head(R).drop('saliency', 1)\n",
      "/Users/owls/v3/lib/python3.10/site-packages/past/builtins/misc.py:45: DeprecationWarning: the imp module is deprecated in favour of importlib and slated for removal in Python 3.12; see the module's documentation for alternative uses\n",
      "  from imp import reload\n",
      "/Users/owls/v3/lib/python3.10/site-packages/past/builtins/misc.py:45: DeprecationWarning: the imp module is deprecated in favour of importlib and slated for removal in Python 3.12; see the module's documentation for alternative uses\n",
      "  from imp import reload\n",
      "/Users/owls/v3/lib/python3.10/site-packages/past/builtins/misc.py:45: DeprecationWarning: the imp module is deprecated in favour of importlib and slated for removal in Python 3.12; see the module's documentation for alternative uses\n",
      "  from imp import reload\n",
      "/Users/owls/v3/lib/python3.10/site-packages/past/builtins/misc.py:45: DeprecationWarning: the imp module is deprecated in favour of importlib and slated for removal in Python 3.12; see the module's documentation for alternative uses\n",
      "  from imp import reload\n",
      "/Users/owls/v3/lib/python3.10/site-packages/past/builtins/misc.py:45: DeprecationWarning: the imp module is deprecated in favour of importlib and slated for removal in Python 3.12; see the module's documentation for alternative uses\n",
      "  from imp import reload\n",
      "/Users/owls/v3/lib/python3.10/site-packages/past/builtins/misc.py:45: DeprecationWarning: the imp module is deprecated in favour of importlib and slated for removal in Python 3.12; see the module's documentation for alternative uses\n",
      "  from imp import reload\n",
      "/Users/owls/v3/lib/python3.10/site-packages/past/builtins/misc.py:45: DeprecationWarning: the imp module is deprecated in favour of importlib and slated for removal in Python 3.12; see the module's documentation for alternative uses\n",
      "  from imp import reload\n",
      "/Users/owls/v3/lib/python3.10/site-packages/past/builtins/misc.py:45: DeprecationWarning: the imp module is deprecated in favour of importlib and slated for removal in Python 3.12; see the module's documentation for alternative uses\n",
      "  from imp import reload\n"
     ]
    }
   ],
   "source": [
    "lda_display = pyLDAvis.gensim_models.prepare(lda, corpus, dictionary, sort_topics=False)"
   ]
  },
  {
   "cell_type": "code",
   "execution_count": 51,
   "metadata": {},
   "outputs": [
    {
     "data": {
      "text/html": [
       "\n",
       "<link rel=\"stylesheet\" type=\"text/css\" href=\"https://cdn.jsdelivr.net/gh/bmabey/pyLDAvis@3.3.1/pyLDAvis/js/ldavis.v1.0.0.css\">\n",
       "\n",
       "\n",
       "<div id=\"ldavis_el18622111057126403378335986\"></div>\n",
       "<script type=\"text/javascript\">\n",
       "\n",
       "var ldavis_el18622111057126403378335986_data = {\"mdsDat\": {\"x\": [-0.02703814201239125, -0.09251443951447105, 0.11955258152686228], \"y\": [-0.08617892383200618, 0.059570935340793725, 0.026607988491212473], \"topics\": [1, 2, 3], \"cluster\": [1, 1, 1], \"Freq\": [19.278060293681712, 31.77276692566074, 48.94917278065755]}, \"tinfo\": {\"Term\": [\"would\", \"review\", \"back\", \"great\", \"time\", \"happened\", \"interactive\", \"city\", \"girl\", \"long\", \"lady\", \"true\", \"made\", \"need\", \"http\", \"last\", \"recommendation\", \"photo\", \"orgs\", \"look\", \"good\", \"like\", \"verification\", \"wanted\", \"sort\", \"kind\", \"working\", \"price\", \"probably\", \"process\", \"great\", \"happened\", \"interactive\", \"load\", \"could\", \"choose\", \"choice\", \"turn\", \"middle\", \"played\", \"civvies\", \"suppose\", \"making\", \"instead\", \"bbbj\", \"aged\", \"sexed\", \"weirdly\", \"felt\", \"pussy\", \"threesome\", \"lasted\", \"talent\", \"month\", \"saying\", \"hill\", \"went\", \"coming\", \"bebe\", \"idea\", \"back\", \"true\", \"made\", \"need\", \"girl\", \"last\", \"think\", \"irene\", \"also\", \"daya\", \"appointment\", \"http\", \"going\", \"jennie\", \"took\", \"adultlook\", \"fast\", \"really\", \"would\", \"long\", \"lady\", \"verification\", \"wanted\", \"sort\", \"kind\", \"working\", \"price\", \"probably\", \"process\", \"verified\", \"link\", \"http\", \"match\", \"schedule\", \"half\", \"spoiled\", \"allow\", \"whenever\", \"told\", \"ready\", \"reference\", \"even\", \"along\", \"approved\", \"yeah\", \"ignoring\", \"current\", \"listed\", \"time\", \"orgs\", \"like\", \"asked\", \"experience\", \"double\", \"almost\", \"photo\", \"girl\", \"take\", \"kaori\", \"back\", \"house\", \"accurate\", \"year\", \"really\", \"city\", \"review\", \"recommendation\", \"description\", \"detail\", \"nationality\", \"estimate\", \"hidden\", \"state\", \"date\", \"2022\", \"physical\", \"click\", \"phone\", \"private\", \"unlock\", \"title\", \"location\", \"maybe\", \"recent\", \"short\", \"pretty\", \"oakland\", \"slim\", \"chinese\", \"york\", \"well\", \"treated\", \"said\", \"face\", \"look\", \"good\", \"really\", \"photo\", \"nice\", \"kaori\", \"girl\", \"time\", \"like\", \"damn\"], \"Freq\": [4.0, 9.0, 3.0, 2.0, 8.0, 1.0, 1.0, 4.0, 7.0, 2.0, 2.0, 2.0, 2.0, 2.0, 2.0, 2.0, 4.0, 7.0, 2.0, 4.0, 4.0, 5.0, 1.0, 1.0, 1.0, 1.0, 1.0, 1.0, 1.0, 1.0, 1.6511464646243874, 1.1557056182730008, 1.1555795604335595, 0.6605156099872589, 0.6605155035194892, 0.6605154502856042, 0.6605153970517194, 0.6605153438178344, 0.6605153438178344, 0.6605152905839495, 0.6605151841161797, 0.6605151308822949, 0.6605151308822949, 0.6605151308822949, 0.6605151308822949, 0.6605151308822949, 0.660515024414525, 0.660515024414525, 0.660515024414525, 0.660514492075676, 0.660514492075676, 0.6604662621759574, 0.6604662621759574, 0.6604661024743027, 0.6604661024743027, 0.660465942772648, 0.6604658895387632, 0.6604657830709934, 0.6604655701354537, 0.6604651442643745, 2.1597791999926335, 1.1553706706692153, 1.163497887876769, 1.1629385062142488, 2.152526828449512, 1.1601209431543065, 0.6836946016822787, 0.6809845710698326, 0.678327561406746, 0.6687080387038142, 0.6658499646574635, 0.6690941973048726, 0.6637786341960374, 0.6623244973961322, 0.6621380190973305, 0.6619414263603979, 0.6608823382203292, 0.6607524475411752, 3.888031324015387, 2.046273326164923, 2.046100660908459, 1.432399382517958, 1.4323964872164014, 1.4323557775217879, 1.4323556020489663, 1.4323549001576799, 1.4322423343426172, 1.4321674951842007, 1.432163283836482, 1.43187094611568, 1.4313673391176598, 2.0353638298997976, 0.8184600752449434, 0.8184583205167272, 0.8184557761608139, 0.8184554252151707, 0.8184545478510626, 0.8184550742695275, 0.8184546355874734, 0.818454372378241, 0.8184541969054194, 0.8184541091690086, 0.8184490204571819, 0.8184531440684898, 0.8184527931228465, 0.8184485817751279, 0.8184519157587384, 0.8184515648130952, 5.151206121155409, 1.4355394686606657, 2.6768650919451202, 1.4465514410536113, 1.440233103429496, 1.4389163553761357, 1.4367903266695112, 3.3029824762470885, 2.664948908102419, 1.4491817786495427, 2.0584016566489503, 1.4162951888418953, 0.830658858066847, 0.8337369145671156, 0.8300146973387175, 0.8219623372914536, 4.436491133656804, 8.710244086641373, 3.735937314391633, 3.0354602698956623, 3.035455674222858, 3.0354554038891637, 3.03545270055222, 3.0354510785500537, 3.0354467532109437, 3.0354456718761664, 3.0354448608750833, 3.035443238872917, 3.035443238872917, 3.035441887204445, 3.0354399948685846, 3.035438913533807, 3.0354348585283915, 2.3349199673152095, 2.334799128153827, 2.3345182514453793, 1.6343861527434214, 1.634383719740172, 1.6343833142396305, 1.6343780427325902, 1.6343791240673677, 1.6343670942179684, 1.6343009976296956, 1.634299781128071, 1.6342496342277657, 1.634235712042506, 3.743928648730828, 3.742820550917616, 3.0315012329416513, 4.403426619498727, 2.335231121397426, 3.0365540400230726, 3.0224834415649435, 3.0323195330345016, 2.3157908847680773, 1.6405743613411856], \"Total\": [4.0, 9.0, 3.0, 2.0, 8.0, 1.0, 1.0, 4.0, 7.0, 2.0, 2.0, 2.0, 2.0, 2.0, 2.0, 2.0, 4.0, 7.0, 2.0, 4.0, 4.0, 5.0, 1.0, 1.0, 1.0, 1.0, 1.0, 1.0, 1.0, 1.0, 2.089717531883354, 1.5942690274788744, 1.5943123465787783, 1.0987533661836788, 1.098753359309929, 1.0987533549824964, 1.0987534013426314, 1.098753440883404, 1.098753448007866, 1.0987533894306347, 1.0987533861191157, 1.0987534206216416, 1.0987534544133535, 1.0987534864239499, 1.0987534950244275, 1.0987535071871364, 1.0987534048423142, 1.0987534202621545, 1.0987534745119532, 1.098753636074112, 1.0987536393312434, 1.0987683922840543, 1.0987684483149684, 1.0987684317704396, 1.0987684712105974, 1.0987686034716402, 1.0987685902386302, 1.0987685193436876, 1.0987686051902077, 1.0987687991224502, 3.80987875277072, 2.2082664125839675, 2.2915329757326113, 2.2917781358408136, 7.8399591781168745, 2.9934714175927692, 1.7895197196182262, 1.79064079842204, 2.409090492163881, 1.7107513322678796, 1.7969619355054576, 2.9385687636958595, 1.7978793100440746, 1.7984717431516986, 1.7985659486078434, 1.7123520229283768, 1.712614084859758, 4.51421601777428, 4.286905353170645, 2.4450890483747973, 2.445112872440117, 1.8311627079165533, 1.8311631257080025, 1.8311483131923656, 1.8311487579989836, 1.8311523760619142, 1.8311713843569486, 1.8311442095865804, 1.8311436905803165, 1.8311204271181796, 1.8310781444319313, 2.9385687636958595, 1.2172136454424307, 1.2172135160783595, 1.2172127235867898, 1.217212608606244, 1.2172123325569553, 1.2172174297944172, 1.2172175564272623, 1.2172174462090974, 1.2172175488216248, 1.2172174389840207, 1.217211398780485, 1.2172175921331936, 1.2172175616319272, 1.2172113080881148, 1.2172177615510296, 1.2172178391354858, 8.818165816510353, 2.327304493330958, 5.158162520389487, 2.5295198122483242, 2.5304500298335757, 2.5306517217041082, 2.5309654201059564, 7.871978774809595, 7.8399591781168745, 3.0279626073238135, 5.74523416442375, 3.80987875277072, 1.7151891428936992, 1.9150186143619177, 1.9157973986370358, 4.51421601777428, 4.806453284854024, 9.52582685716709, 4.10591240766726, 3.4053884630422595, 3.4053878926659147, 3.4053877749007326, 3.4053866395006978, 3.4053861053478767, 3.405384935839095, 3.405384620717816, 3.4053843901091305, 3.405384013195268, 3.4053841679591383, 3.405383421589752, 3.405383044442019, 3.405382603393956, 3.4053818091941492, 2.7048485427320186, 2.704822160913438, 2.7047720264419075, 2.004310384418275, 2.0043091647308375, 2.0043109853336922, 2.0043076983681054, 2.004310073958349, 2.004303319374843, 2.0042928817628023, 2.004292496791881, 2.0042805452978247, 2.004273695979887, 4.603753442135729, 4.603442895825452, 4.51421601777428, 7.871978774809595, 3.318782105808534, 5.74523416442375, 7.8399591781168745, 8.818165816510353, 5.158162520389487, 2.6188822530532954], \"Category\": [\"Default\", \"Default\", \"Default\", \"Default\", \"Default\", \"Default\", \"Default\", \"Default\", \"Default\", \"Default\", \"Default\", \"Default\", \"Default\", \"Default\", \"Default\", \"Default\", \"Default\", \"Default\", \"Default\", \"Default\", \"Default\", \"Default\", \"Default\", \"Default\", \"Default\", \"Default\", \"Default\", \"Default\", \"Default\", \"Default\", \"Topic1\", \"Topic1\", \"Topic1\", \"Topic1\", \"Topic1\", \"Topic1\", \"Topic1\", \"Topic1\", \"Topic1\", \"Topic1\", \"Topic1\", \"Topic1\", \"Topic1\", \"Topic1\", \"Topic1\", \"Topic1\", \"Topic1\", \"Topic1\", \"Topic1\", \"Topic1\", \"Topic1\", \"Topic1\", \"Topic1\", \"Topic1\", \"Topic1\", \"Topic1\", \"Topic1\", \"Topic1\", \"Topic1\", \"Topic1\", \"Topic1\", \"Topic1\", \"Topic1\", \"Topic1\", \"Topic1\", \"Topic1\", \"Topic1\", \"Topic1\", \"Topic1\", \"Topic1\", \"Topic1\", \"Topic1\", \"Topic1\", \"Topic1\", \"Topic1\", \"Topic1\", \"Topic1\", \"Topic1\", \"Topic2\", \"Topic2\", \"Topic2\", \"Topic2\", \"Topic2\", \"Topic2\", \"Topic2\", \"Topic2\", \"Topic2\", \"Topic2\", \"Topic2\", \"Topic2\", \"Topic2\", \"Topic2\", \"Topic2\", \"Topic2\", \"Topic2\", \"Topic2\", \"Topic2\", \"Topic2\", \"Topic2\", \"Topic2\", \"Topic2\", \"Topic2\", \"Topic2\", \"Topic2\", \"Topic2\", \"Topic2\", \"Topic2\", \"Topic2\", \"Topic2\", \"Topic2\", \"Topic2\", \"Topic2\", \"Topic2\", \"Topic2\", \"Topic2\", \"Topic2\", \"Topic2\", \"Topic2\", \"Topic2\", \"Topic2\", \"Topic2\", \"Topic2\", \"Topic2\", \"Topic2\", \"Topic3\", \"Topic3\", \"Topic3\", \"Topic3\", \"Topic3\", \"Topic3\", \"Topic3\", \"Topic3\", \"Topic3\", \"Topic3\", \"Topic3\", \"Topic3\", \"Topic3\", \"Topic3\", \"Topic3\", \"Topic3\", \"Topic3\", \"Topic3\", \"Topic3\", \"Topic3\", \"Topic3\", \"Topic3\", \"Topic3\", \"Topic3\", \"Topic3\", \"Topic3\", \"Topic3\", \"Topic3\", \"Topic3\", \"Topic3\", \"Topic3\", \"Topic3\", \"Topic3\", \"Topic3\", \"Topic3\", \"Topic3\", \"Topic3\", \"Topic3\", \"Topic3\", \"Topic3\"], \"logprob\": [30.0, 29.0, 28.0, 27.0, 26.0, 25.0, 24.0, 23.0, 22.0, 21.0, 20.0, 19.0, 18.0, 17.0, 16.0, 15.0, 14.0, 13.0, 12.0, 11.0, 10.0, 9.0, 8.0, 7.0, 6.0, 5.0, 4.0, 3.0, 2.0, 1.0, -4.2375, -4.5943, -4.5944, -5.1537, -5.1537, -5.1537, -5.1537, -5.1537, -5.1537, -5.1537, -5.1537, -5.1537, -5.1537, -5.1537, -5.1537, -5.1537, -5.1537, -5.1537, -5.1537, -5.1537, -5.1537, -5.1538, -5.1538, -5.1538, -5.1538, -5.1538, -5.1538, -5.1538, -5.1538, -5.1538, -3.969, -4.5946, -4.5876, -4.588, -3.9723, -4.5905, -5.1192, -5.1232, -5.1271, -5.1414, -5.1457, -5.1408, -5.1488, -5.151, -5.1513, -5.1516, -5.1532, -5.1534, -3.8807, -4.5226, -4.5227, -4.8793, -4.8793, -4.8793, -4.8793, -4.8793, -4.8794, -4.8794, -4.8794, -4.8797, -4.88, -4.528, -5.439, -5.439, -5.439, -5.439, -5.439, -5.439, -5.439, -5.439, -5.439, -5.439, -5.439, -5.439, -5.439, -5.439, -5.439, -5.439, -3.5994, -4.8771, -4.254, -4.8695, -4.8738, -4.8747, -4.8762, -4.0438, -4.2584, -4.8676, -4.5167, -4.8906, -5.4242, -5.4205, -5.4249, -5.4347, -4.1809, -3.5063, -4.3528, -4.5604, -4.5604, -4.5604, -4.5604, -4.5604, -4.5604, -4.5604, -4.5604, -4.5604, -4.5604, -4.5604, -4.5605, -4.5605, -4.5605, -4.8228, -4.8229, -4.823, -5.1795, -5.1795, -5.1795, -5.1795, -5.1795, -5.1796, -5.1796, -5.1796, -5.1796, -5.1796, -4.3507, -4.351, -4.5617, -4.1884, -4.8227, -4.5601, -4.5647, -4.5615, -4.8311, -5.1758], \"loglift\": [30.0, 29.0, 28.0, 27.0, 26.0, 25.0, 24.0, 23.0, 22.0, 21.0, 20.0, 19.0, 18.0, 17.0, 16.0, 15.0, 14.0, 13.0, 12.0, 11.0, 10.0, 9.0, 8.0, 7.0, 6.0, 5.0, 4.0, 3.0, 2.0, 1.0, 1.4106, 1.3245, 1.3244, 1.1373, 1.1373, 1.1373, 1.1373, 1.1373, 1.1373, 1.1373, 1.1373, 1.1373, 1.1373, 1.1373, 1.1373, 1.1373, 1.1373, 1.1373, 1.1373, 1.1373, 1.1373, 1.1372, 1.1372, 1.1372, 1.1372, 1.1372, 1.1372, 1.1372, 1.1372, 1.1372, 1.0786, 0.9984, 0.9684, 0.9678, 0.3536, 0.6983, 0.684, 0.6794, 0.3788, 0.7069, 0.6534, 0.1664, 0.6498, 0.6473, 0.6469, 0.6958, 0.694, -0.2754, 1.0489, 0.9685, 0.9684, 0.901, 0.901, 0.9009, 0.9009, 0.9009, 0.9008, 0.9008, 0.9008, 0.9006, 0.9003, 0.7793, 0.7497, 0.7497, 0.7497, 0.7497, 0.7497, 0.7497, 0.7497, 0.7497, 0.7497, 0.7497, 0.7497, 0.7497, 0.7497, 0.7497, 0.7497, 0.7497, 0.609, 0.6634, 0.4906, 0.5877, 0.583, 0.582, 0.5804, 0.2781, 0.0675, 0.4097, 0.1201, 0.157, 0.4215, 0.315, 0.3101, -0.5567, 0.6343, 0.6249, 0.62, 0.5994, 0.5994, 0.5994, 0.5994, 0.5994, 0.5994, 0.5994, 0.5994, 0.5994, 0.5994, 0.5994, 0.5994, 0.5994, 0.5994, 0.5673, 0.5673, 0.5672, 0.5104, 0.5104, 0.5104, 0.5104, 0.5104, 0.5103, 0.5103, 0.5103, 0.5103, 0.5103, 0.5077, 0.5074, 0.3162, 0.1335, 0.3629, 0.0767, -0.2388, -0.3531, -0.0864, 0.2467]}, \"token.table\": {\"Topic\": [3, 2, 3, 1, 2, 1, 2, 2, 3, 2, 1, 2, 3, 1, 3, 2, 2, 3, 1, 2, 1, 1, 3, 1, 1, 3, 1, 3, 1, 1, 2, 2, 3, 3, 1, 2, 3, 3, 2, 3, 3, 2, 2, 3, 3, 1, 2, 1, 1, 2, 3, 1, 3, 1, 3, 1, 2, 1, 3, 1, 1, 2, 1, 2, 1, 2, 1, 1, 1, 3, 1, 3, 1, 2, 3, 2, 2, 1, 3, 1, 2, 3, 2, 2, 1, 3, 2, 1, 3, 1, 3, 1, 2, 3, 1, 1, 3, 1, 3, 2, 3, 3, 1, 2, 3, 2, 3, 3, 1, 3, 2, 3, 2, 2, 1, 2, 1, 2, 3, 3, 3, 2, 1, 3, 3, 1, 2, 1, 3, 3, 2, 2, 3, 1, 1, 2, 3, 1, 1, 3, 1, 1, 2, 3, 3, 2, 1, 3, 3, 1, 2, 1, 3, 2, 2, 2, 1, 3, 1, 2, 2, 2, 2, 2, 3, 3], \"Freq\": [0.8809578174826427, 0.5221881356663465, 0.5221881356663465, 0.5839920685758593, 0.5839920685758593, 0.9101222371158111, 0.8215493494872296, 0.3951061488458171, 0.3951061488458171, 0.8215499797339169, 0.4150944114605612, 0.4150944114605612, 0.4150944114605612, 0.5564948150772685, 0.5564948150772685, 0.8215457995866489, 0.39533195002381327, 0.39533195002381327, 0.5249510889409558, 0.2624755444704779, 0.9101222471904564, 0.9101097312722092, 0.9978495972183401, 0.9101223247892031, 0.9101223631903544, 0.8322144756102593, 0.9101223373991861, 0.8809578749518628, 0.9101098023788635, 0.9101223596058436, 0.821545685240214, 0.3818422912424271, 0.7636845824848542, 0.880957757825204, 0.5845384896905719, 0.5845384896905719, 0.8809567638341914, 0.8809569113876904, 0.39515512601892644, 0.39515512601892644, 0.8809572355754188, 0.821545902952782, 0.39518662222536305, 0.39518662222536305, 0.9978677083930907, 0.5839027068855899, 0.5839027068855899, 0.910122264181401, 0.2551033691071325, 0.38265505366069874, 0.38265505366069874, 0.5562108615485903, 0.5562108615485903, 0.2172287182940472, 0.8689148731761888, 0.9570671487823064, 0.8215490855643344, 0.6272467085316007, 0.8809573737582205, 0.9101097326956982, 0.5830260785774902, 0.5830260785774902, 0.3403017184264535, 0.680603436852907, 0.9101095706382147, 0.821550040946226, 0.9101222543144257, 0.6272296655958863, 0.5584592961811361, 0.5584592961811361, 0.5560276405830922, 0.5560276405830922, 0.1740573093073049, 0.3481146186146098, 0.5221719279219147, 0.5461052771555085, 0.8179581493119729, 0.33406031342840087, 0.6681206268568017, 0.9101099076223512, 0.5816024578794142, 0.38773497191960954, 0.5461263371204932, 0.8215456328755729, 0.9101223539121607, 0.7394129351064922, 0.8179661192010004, 0.21721406512510574, 0.868856260500423, 0.4363890943704602, 0.4363890943704602, 0.9101222808295243, 0.8215484633648859, 0.7394201470623064, 0.9101222861353341, 0.9101098749157777, 0.8809569418529584, 0.43634241219127323, 0.43634241219127323, 0.3013153524751744, 0.6026307049503488, 0.9978491434885917, 0.42968163506991236, 0.42968163506991236, 0.8809580680343757, 0.3810985885277064, 0.5081314513702752, 0.8809579149885958, 0.9101223346561799, 0.997850049879198, 0.5460985293581188, 0.8809581656008856, 0.5461066336363378, 0.5461067884208941, 0.9101221303558436, 0.8215458980763055, 0.22152240744851348, 0.22152240744851348, 0.6645672223455404, 0.7394338526308164, 0.9742049032830116, 0.821545828819252, 0.10497776360984505, 0.9447998724886055, 0.9978642983349476, 0.9101098422474968, 0.8215485506781243, 0.9101223218903366, 0.9978494426552972, 0.9978507799118804, 0.5461054098106515, 0.8215491631696447, 0.8809576763047473, 0.9101223088199626, 0.33025506906237, 0.33025506906237, 0.33025506906237, 0.9101098612119449, 0.5588091536724382, 0.5588091536724382, 0.910122127657889, 0.11340226763798074, 0.5670113381899037, 0.34020680291394223, 0.8809584851543919, 0.8215458236859217, 0.5559985169151218, 0.5559985169151218, 0.9978583481209695, 0.4528439115413914, 0.4528439115413914, 0.9101222920366868, 0.8809582796981655, 0.5461011168897015, 0.5461137264324016, 0.5461009922932776, 0.910122309117734, 0.9978581564591366, 0.9101097436565968, 0.8215459091551915, 0.5461041981392096, 0.9330740173774897, 0.821545820173098, 0.521975862745943, 0.521975862745943, 0.997852960011968], \"Term\": [\"2022\", \"accurate\", \"accurate\", \"adultlook\", \"adultlook\", \"aged\", \"allow\", \"almost\", \"almost\", \"along\", \"also\", \"also\", \"also\", \"appointment\", \"appointment\", \"approved\", \"asked\", \"asked\", \"back\", \"back\", \"bbbj\", \"bebe\", \"chinese\", \"choice\", \"choose\", \"city\", \"civvies\", \"click\", \"coming\", \"could\", \"current\", \"damn\", \"damn\", \"date\", \"daya\", \"daya\", \"description\", \"detail\", \"double\", \"double\", \"estimate\", \"even\", \"experience\", \"experience\", \"face\", \"fast\", \"fast\", \"felt\", \"girl\", \"girl\", \"girl\", \"going\", \"going\", \"good\", \"good\", \"great\", \"half\", \"happened\", \"hidden\", \"hill\", \"house\", \"house\", \"http\", \"http\", \"idea\", \"ignoring\", \"instead\", \"interactive\", \"irene\", \"irene\", \"jennie\", \"jennie\", \"kaori\", \"kaori\", \"kaori\", \"kind\", \"lady\", \"last\", \"last\", \"lasted\", \"like\", \"like\", \"link\", \"listed\", \"load\", \"location\", \"long\", \"look\", \"look\", \"made\", \"made\", \"making\", \"match\", \"maybe\", \"middle\", \"month\", \"nationality\", \"need\", \"need\", \"nice\", \"nice\", \"oakland\", \"orgs\", \"orgs\", \"phone\", \"photo\", \"photo\", \"physical\", \"played\", \"pretty\", \"price\", \"private\", \"probably\", \"process\", \"pussy\", \"ready\", \"really\", \"really\", \"really\", \"recent\", \"recommendation\", \"reference\", \"review\", \"review\", \"said\", \"saying\", \"schedule\", \"sexed\", \"short\", \"slim\", \"sort\", \"spoiled\", \"state\", \"suppose\", \"take\", \"take\", \"take\", \"talent\", \"think\", \"think\", \"threesome\", \"time\", \"time\", \"time\", \"title\", \"told\", \"took\", \"took\", \"treated\", \"true\", \"true\", \"turn\", \"unlock\", \"verification\", \"verified\", \"wanted\", \"weirdly\", \"well\", \"went\", \"whenever\", \"working\", \"would\", \"yeah\", \"year\", \"year\", \"york\"]}, \"R\": 30, \"lambda.step\": 0.01, \"plot.opts\": {\"xlab\": \"PC1\", \"ylab\": \"PC2\"}, \"topic.order\": [1, 2, 3]};\n",
       "\n",
       "function LDAvis_load_lib(url, callback){\n",
       "  var s = document.createElement('script');\n",
       "  s.src = url;\n",
       "  s.async = true;\n",
       "  s.onreadystatechange = s.onload = callback;\n",
       "  s.onerror = function(){console.warn(\"failed to load library \" + url);};\n",
       "  document.getElementsByTagName(\"head\")[0].appendChild(s);\n",
       "}\n",
       "\n",
       "if(typeof(LDAvis) !== \"undefined\"){\n",
       "   // already loaded: just create the visualization\n",
       "   !function(LDAvis){\n",
       "       new LDAvis(\"#\" + \"ldavis_el18622111057126403378335986\", ldavis_el18622111057126403378335986_data);\n",
       "   }(LDAvis);\n",
       "}else if(typeof define === \"function\" && define.amd){\n",
       "   // require.js is available: use it to load d3/LDAvis\n",
       "   require.config({paths: {d3: \"https://d3js.org/d3.v5\"}});\n",
       "   require([\"d3\"], function(d3){\n",
       "      window.d3 = d3;\n",
       "      LDAvis_load_lib(\"https://cdn.jsdelivr.net/gh/bmabey/pyLDAvis@3.3.1/pyLDAvis/js/ldavis.v3.0.0.js\", function(){\n",
       "        new LDAvis(\"#\" + \"ldavis_el18622111057126403378335986\", ldavis_el18622111057126403378335986_data);\n",
       "      });\n",
       "    });\n",
       "}else{\n",
       "    // require.js not available: dynamically load d3 & LDAvis\n",
       "    LDAvis_load_lib(\"https://d3js.org/d3.v5.js\", function(){\n",
       "         LDAvis_load_lib(\"https://cdn.jsdelivr.net/gh/bmabey/pyLDAvis@3.3.1/pyLDAvis/js/ldavis.v3.0.0.js\", function(){\n",
       "                 new LDAvis(\"#\" + \"ldavis_el18622111057126403378335986\", ldavis_el18622111057126403378335986_data);\n",
       "            })\n",
       "         });\n",
       "}\n",
       "</script>"
      ],
      "text/plain": [
       "<IPython.core.display.HTML object>"
      ]
     },
     "execution_count": 51,
     "metadata": {},
     "output_type": "execute_result"
    }
   ],
   "source": [
    "pyLDAvis.display(lda_display)"
   ]
  },
  {
   "cell_type": "code",
   "execution_count": null,
   "metadata": {},
   "outputs": [],
   "source": []
  }
 ],
 "metadata": {
  "kernelspec": {
   "display_name": "Python 3.10.5 ('v3')",
   "language": "python",
   "name": "python3"
  },
  "language_info": {
   "codemirror_mode": {
    "name": "ipython",
    "version": 3
   },
   "file_extension": ".py",
   "mimetype": "text/x-python",
   "name": "python",
   "nbconvert_exporter": "python",
   "pygments_lexer": "ipython3",
   "version": "3.10.5"
  },
  "orig_nbformat": 4,
  "vscode": {
   "interpreter": {
    "hash": "7605221d54420214921005f3a3f402d7571e3f80342b3638f6ed8edbc81e4638"
   }
  }
 },
 "nbformat": 4,
 "nbformat_minor": 2
}
