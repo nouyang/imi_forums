{
 "cells": [
  {
   "cell_type": "markdown",
   "metadata": {},
   "source": [
    "# 21 Feb 2023\n",
    "# nrobot\n",
    "\n",
    "https://online.drl.wi.gov/orders/searchorders.aspx\n",
    " - Wisconsin Department of Safety and Professional Services\n",
    " - Health & Business Renewal Application "
   ]
  },
  {
   "cell_type": "code",
   "execution_count": 2,
   "metadata": {},
   "outputs": [],
   "source": [
    "# https://towardsdatascience.com/how-to-extract-text-from-pdf-245482a96de7"
   ]
  },
  {
   "cell_type": "markdown",
   "metadata": {},
   "source": [
    "# install libraries"
   ]
  },
  {
   "cell_type": "code",
   "execution_count": null,
   "metadata": {},
   "outputs": [],
   "source": []
  },
  {
   "cell_type": "code",
   "execution_count": 3,
   "metadata": {},
   "outputs": [],
   "source": [
    "#!pip install pdfplumber\n",
    "# !pip install pdfminer3 # old / unmaintained\n",
    "# https://github.com/pdfminer/pdfminer.six\n",
    "# !pip install pdfminer.six # also fails -- I realized that's because the \n",
    "# text of the order is actually scanned (image?)\n",
    "#!pip install borb\n",
    "# https://pyimagesearch.com/2021/08/16/installing-tesseract-pytesseract-and-python-ocr-packages-on-your-system/\n",
    "#!pip install pytesseract\n",
    "#!brew install freetype imagemagick\n",
    "#!pip install pdf2image"
   ]
  },
  {
   "cell_type": "markdown",
   "metadata": {},
   "source": [
    "# try various things"
   ]
  },
  {
   "cell_type": "code",
   "execution_count": 3,
   "metadata": {},
   "outputs": [],
   "source": [
    "# only extracts the first (easy) page \n",
    "import pdfplumber \n",
    "with pdfplumber.open(r'./ORDER0008271-00019637.pdf') as pdf:\n",
    "    first_page = pdf.pages[0]\n",
    "    #print(first_page.extract_text())"
   ]
  },
  {
   "cell_type": "code",
   "execution_count": 4,
   "metadata": {},
   "outputs": [],
   "source": [
    "from pdfminer.high_level import extract_text\n",
    "\n",
    "text = extract_text(\"./ORDER0008271-00019637.pdf\")\n",
    "#print(text)"
   ]
  },
  {
   "cell_type": "code",
   "execution_count": 5,
   "metadata": {},
   "outputs": [],
   "source": [
    "# pdf info: created with www.pdfsharp.com"
   ]
  },
  {
   "cell_type": "code",
   "execution_count": 6,
   "metadata": {},
   "outputs": [],
   "source": [
    "# https://stackabuse.com/applying-ocr-to-a-scanned-pdf-in-python-using-borb/"
   ]
  },
  {
   "cell_type": "code",
   "execution_count": 7,
   "metadata": {},
   "outputs": [
    {
     "name": "stdout",
     "output_type": "stream",
     "text": [
      "Producer: PDFsharp 1.31.1789-g \\(www.pdfsharp.com\\)\n",
      "Num. of pages: 1\n",
      "WISCONSIN DEPARTMENT OF\n",
      "SAFETY AND PROFESSIONAL SERVICES\n",
      "Wisconsin Department of Safety and Professional Services\n",
      "Access to the Public Records of the Reports of Decisions\n",
      "This Reports of Decisions document was retrieved from the Wisconsin Department of Safety and\n",
      "Professional Services website. These records are open to public view under Wisconsin’s Open\n",
      "Records law, sections 19.31-19.39 Wisconsin Statutes.\n",
      "Please read this agreement prior to viewing the Decision:\n",
      " The Reports of Decisions is de\n"
     ]
    }
   ],
   "source": [
    "# New imports\n",
    "import typing\n",
    "from pathlib import Path\n",
    "\n",
    "from borb.pdf import Document\n",
    "from borb.pdf import Page\n",
    "from borb.toolkit import SimpleTextExtraction\n",
    "#from borb.pdf import SingleColumnLayout\n",
    "#from borb.pdf import Paragraph\n",
    "from borb.pdf import PDF\n",
    "\n",
    "def read_modified_document():\n",
    "\n",
    "    # read the Document\n",
    "    doc: typing.Optional[Document] = None\n",
    "    l: SimpleTextExtraction = SimpleTextExtraction()\n",
    "\n",
    "    with open(\"./ORDER0008271-00019637.pdf\", \"rb\") as in_file_handle:\n",
    "        #doc = PDF.loads(in_file_handle)\n",
    "        doc = PDF.loads(in_file_handle, [l])\n",
    "\n",
    "    # check whether we have read a Document\n",
    "    assert doc is not None\n",
    "\n",
    "    # print the \\Producer key from the \\Info dictionary\n",
    "    print(\"Producer: %s\" % doc.get_document_info().get_producer())\n",
    "    print(f'Num. of pages: {len(l.get_text())}')\n",
    "    print(l.get_text()[0][:500])\n",
    "    #print(f'# of Pages: {l.shape}')\n",
    "    return l\n",
    "\n",
    "l = read_modified_document()\n"
   ]
  },
  {
   "cell_type": "code",
   "execution_count": 8,
   "metadata": {},
   "outputs": [],
   "source": [
    "# https://github.com/jorisschellekens/borb-examples#72-performing-ocr-on-a-pdf"
   ]
  },
  {
   "cell_type": "code",
   "execution_count": 9,
   "metadata": {},
   "outputs": [
    {
     "name": "stdout",
     "output_type": "stream",
     "text": [
      "\u001b[32m==>\u001b[0m \u001b[1mtesseract\u001b[0m: stable 5.3.0 (bottled), HEAD\n",
      "OCR (Optical Character Recognition) engine\n",
      "\u001b[4mhttps://github.com/tesseract-ocr/\u001b[24m\n",
      "/opt/homebrew/Cellar/tesseract/5.3.0_1 (73 files, 32.2MB) *\n",
      "  Poured from bottle on 2023-01-23 at 18:01:00\n",
      "From: \u001b[4mhttps://github.com/Homebrew/homebrew-core/blob/HEAD/Formula/tesseract.rb\u001b[24m\n",
      "License: Apache-2.0\n",
      "\u001b[34m==>\u001b[0m \u001b[1mDependencies\u001b[0m\n",
      "Build: \u001b[1mautoconf \u001b[32m✔\u001b[0m\u001b[0m, \u001b[1mautomake \u001b[32m✔\u001b[0m\u001b[0m, \u001b[1mlibtool \u001b[32m✔\u001b[0m\u001b[0m, \u001b[1mpkg-config \u001b[32m✔\u001b[0m\u001b[0m\n",
      "Required: \u001b[1mcairo \u001b[32m✔\u001b[0m\u001b[0m, \u001b[1micu4c \u001b[32m✔\u001b[0m\u001b[0m, \u001b[1mleptonica \u001b[32m✔\u001b[0m\u001b[0m, \u001b[1mlibarchive \u001b[32m✔\u001b[0m\u001b[0m, \u001b[1mpango \u001b[32m✔\u001b[0m\u001b[0m\n",
      "\u001b[34m==>\u001b[0m \u001b[1mOptions\u001b[0m\n",
      "--HEAD\n",
      "\tInstall HEAD version\n",
      "\u001b[34m==>\u001b[0m \u001b[1mCaveats\u001b[0m\n",
      "This formula contains only the \"eng\", \"osd\", and \"snum\" language data files.\n",
      "If you need any other supported languages, run `brew install tesseract-lang`.\n",
      "\u001b[34m==>\u001b[0m \u001b[1mAnalytics\u001b[0m\n",
      "install: 175,981 (30 days), 465,732 (90 days), 1,465,418 (365 days)\n",
      "install-on-request: 66,153 (30 days), 146,394 (90 days), 345,527 (365 days)\n",
      "build-error: 10 (30 days)\n"
     ]
    }
   ],
   "source": [
    "!brew info tesseract"
   ]
  },
  {
   "cell_type": "code",
   "execution_count": 10,
   "metadata": {},
   "outputs": [],
   "source": [
    "# TesseractError: (1, 'Error opening data file /opt/homebrew/Cellar/tesseract/5.3.0_1/share/eng.traineddata Please make sure the TESSDATA_PREFIX environment variable is set to your \"tessdata\" directory. Failed loading language \\'eng\\' Tesseract couldn\\'t load any languages! Could not initialize tesseract.')\n",
    "\n",
    "# > Fix with brew info tesseract + share + tessdata, as below"
   ]
  },
  {
   "cell_type": "code",
   "execution_count": 11,
   "metadata": {},
   "outputs": [
    {
     "name": "stdout",
     "output_type": "stream",
     "text": [
      "\u001b[34mconfigs\u001b[m\u001b[m          osd.traineddata  snum.traineddata\n",
      "eng.traineddata  pdf.ttf          \u001b[34mtessconfigs\u001b[m\u001b[m\n"
     ]
    }
   ],
   "source": [
    "!ls /opt/homebrew/Cellar/tesseract/5.3.0_1/share/tessdata"
   ]
  },
  {
   "cell_type": "code",
   "execution_count": 12,
   "metadata": {},
   "outputs": [
    {
     "data": {
      "text/plain": [
       "{}"
      ]
     },
     "execution_count": 12,
     "metadata": {},
     "output_type": "execute_result"
    }
   ],
   "source": [
    "from borb.pdf import Document\n",
    "from borb.pdf import PDF\n",
    "from borb.toolkit.ocr.ocr_as_optional_content_group import OCRAsOptionalContentGroup\n",
    "\n",
    "from pathlib import Path\n",
    "\n",
    "# set up everything for OCR\n",
    "tesseract_data_dir: Path = Path(\"/opt/homebrew/Cellar/tesseract/5.3.0_1/share/tessdata\")\n",
    "assert tesseract_data_dir.exists()\n",
    "#l: OCRAsOptionalContentGroup = OCRAsOptionalContentGroup(tesseract_data_dir)\n",
    "l: SimpleTextExtraction = SimpleTextExtraction()\n",
    "\n",
    "# read Document\n",
    "doc: typing.Optional[Document] = None\n",
    "#with open(\"ORDER0008271-00019637.pdf\", \"rb\") as pdf_file_handle:\n",
    "with open(\"page3.pdf\", \"rb\") as pdf_file_handle:\n",
    "    doc = PDF.loads(pdf_file_handle, [l])\n",
    "\n",
    "assert doc is not None\n",
    "len(l.get_text())\n",
    "l.get_text()\n"
   ]
  },
  {
   "cell_type": "code",
   "execution_count": null,
   "metadata": {},
   "outputs": [],
   "source": [
    "# https://stackoverflow.com/questions/45480280/convert-scanned-pdf-to-text-python"
   ]
  },
  {
   "cell_type": "markdown",
   "metadata": {},
   "source": [
    "# try Imagemagick OCR"
   ]
  },
  {
   "cell_type": "code",
   "execution_count": null,
   "metadata": {},
   "outputs": [],
   "source": [
    "# ImportError: MagickWand shared library not found.\n",
    "# You probably had not installed ImageMagick library.\n",
    "# cannot find libwand, libmagick\n",
    "# https://stackoverflow.com/a/71591742/851192 "
   ]
  },
  {
   "cell_type": "code",
   "execution_count": null,
   "metadata": {},
   "outputs": [
    {
     "name": "stdout",
     "output_type": "stream",
     "text": [
      "\u001b[32m==>\u001b[0m \u001b[1mimagemagick\u001b[0m: stable 7.1.0-62 (bottled), HEAD\n",
      "Tools and libraries to manipulate images in many formats\n",
      "\u001b[4mhttps://imagemagick.org/index.php\u001b[24m\n",
      "/opt/homebrew/Cellar/imagemagick/7.1.0-62 (807 files, 31MB) *\n",
      "  Poured from bottle using the formulae.brew.sh API on 2023-02-21 at 13:53:45\n",
      "From: \u001b[4mhttps://github.com/Homebrew/homebrew-core/blob/HEAD/Formula/imagemagick.rb\u001b[24m\n",
      "License: ImageMagick\n",
      "\u001b[34m==>\u001b[0m \u001b[1mDependencies\u001b[0m\n",
      "Build: \u001b[1mpkg-config \u001b[32m✔\u001b[0m\u001b[0m\n",
      "Required: \u001b[1mfreetype \u001b[32m✔\u001b[0m\u001b[0m, \u001b[1mghostscript \u001b[32m✔\u001b[0m\u001b[0m, \u001b[1mjpeg-turbo \u001b[32m✔\u001b[0m\u001b[0m, \u001b[1mlibheif \u001b[32m✔\u001b[0m\u001b[0m, \u001b[1mliblqr \u001b[32m✔\u001b[0m\u001b[0m, \u001b[1mlibpng \u001b[32m✔\u001b[0m\u001b[0m, \u001b[1mlibraw \u001b[32m✔\u001b[0m\u001b[0m, \u001b[1mlibtiff \u001b[32m✔\u001b[0m\u001b[0m, \u001b[1mlibtool \u001b[32m✔\u001b[0m\u001b[0m, \u001b[1mlittle-cms2 \u001b[32m✔\u001b[0m\u001b[0m, \u001b[1mopenexr \u001b[32m✔\u001b[0m\u001b[0m, \u001b[1mopenjpeg \u001b[32m✔\u001b[0m\u001b[0m, \u001b[1mwebp \u001b[32m✔\u001b[0m\u001b[0m, \u001b[1mxz \u001b[32m✔\u001b[0m\u001b[0m, \u001b[1mlibomp \u001b[32m✔\u001b[0m\u001b[0m\n",
      "\u001b[34m==>\u001b[0m \u001b[1mOptions\u001b[0m\n",
      "--HEAD\n",
      "\tInstall HEAD version\n",
      "\u001b[34m==>\u001b[0m \u001b[1mAnalytics\u001b[0m\n",
      "install: 214,522 (30 days), 517,268 (90 days), 2,006,493 (365 days)\n",
      "install-on-request: 188,777 (30 days), 458,143 (90 days), 1,777,905 (365 days)\n",
      "build-error: 26 (30 days)\n"
     ]
    }
   ],
   "source": [
    "!brew info imagemagick\n"
   ]
  },
  {
   "cell_type": "code",
   "execution_count": 12,
   "metadata": {},
   "outputs": [
    {
     "name": "stdout",
     "output_type": "stream",
     "text": [
      "/Users/owls/v3/bin:/Users/owls/v3/bin:/Users/owls/v3/bin:/Users/owls/v3/bin:/Users/owls/v3/bin:/Users/owls/v3/bin:/Users/owls/v3/bin:/Users/owls/v3/bin:/Users/owls/v3/bin:/Users/owls/v3/bin:/Users/owls/v3/bin:/Users/owls/v3/bin:/Users/owls/v3/bin:/Users/owls/v3/bin:/Users/owls/v3/bin:/Users/owls/v3/bin:/Users/owls/v3/bin:/Users/owls/v3/bin:/Users/owls/v3/bin:/Users/owls/v3/bin:/Users/owls/v3/bin:/Users/owls/v3/bin:/Users/owls/v3/bin:/Users/owls/v3/bin:/Users/owls/v3/bin:/Users/owls/v3/bin:/Users/owls/v3/bin:/Users/owls/v3/bin:/Users/owls/v3/bin:/Users/owls/v3/bin:/Users/owls/v3/bin:/Users/owls/v3/bin:/Users/owls/v3/bin:/Users/owls/v3/bin:/Users/owls/v3/bin:/Users/owls/v3/bin:/Users/owls/v3/bin:/Users/owls/v3/bin:/Users/owls/v3/bin:/Users/owls/v3/bin:/Users/owls/v3/bin:/Users/owls/v3/bin:/Users/owls/v3/bin:/Users/owls/v3/bin:/Users/owls/v3/bin:/Users/owls/v3/bin:/Users/owls/v3/bin:/Users/owls/v3/bin:/Users/owls/v3/bin:/Users/owls/v3/bin:/Users/owls/v3/bin:/Users/owls/v3/bin:/Users/owls/v3/bin:/Users/owls/v3/bin:/Users/owls/v3/bin:/Users/owls/v3/bin:/Users/owls/v3/bin:/Users/owls/v3/bin:/Users/owls/v3/bin:/Users/owls/v3/bin:/Users/owls/v3/bin:/Users/owls/v3/bin:/Users/owls/v3/bin:/Users/owls/v3/bin:/Users/owls/v3/bin:/Users/owls/v3/bin:/Users/owls/v3/bin:/Users/owls/v3/bin:/Users/owls/v3/bin:/Users/owls/v3/bin:/Users/owls/v3/bin:/Users/owls/v3/bin:/Users/owls/v3/bin:/Users/owls/v3/bin:/Users/owls/v3/bin:/Users/owls/v3/bin:/Users/owls/v3/bin:/Users/owls/v3/bin:/Users/owls/v3/bin:/Users/owls/v3/bin:/Users/owls/v3/bin:/Users/owls/v3/bin:/Users/owls/v3/bin:/Users/owls/v3/bin:/Users/owls/v3/bin:/Users/owls/v3/bin:/Users/owls/v3/bin:/Users/owls/v3/bin:/Users/owls/v3/bin:/Users/owls/v3/bin:/Users/owls/v3/bin:/Users/owls/v3/bin:/Users/owls/v3/bin:/Users/owls/v3/bin:/Users/owls/v3/bin:/Users/owls/v3/bin:/Users/owls/v3/bin:/Users/owls/v3/bin:/Users/owls/v3/bin:/Users/owls/v3/bin:/Users/owls/v3/bin:/Users/owls/v3/bin:/Users/owls/v3/bin:/Users/owls/v3/bin:/Users/owls/v3/bin:/Users/owls/v3/bin:/Users/owls/v3/bin:/Users/owls/v3/bin:/Users/owls/v3/bin:/Users/owls/v3/bin:/Users/owls/v3/bin:/Users/owls/v3/bin:/Users/owls/v3/bin:/Users/owls/v3/bin:/Users/owls/v3/bin:/Users/owls/v3/bin:/Users/owls/v3/bin:/Users/owls/v3/bin:/Users/owls/v3/bin:/Users/owls/v3/bin:/Users/owls/v3/bin:/Users/owls/v3/bin:/Users/owls/v3/bin:/Users/owls/v3/bin:/Users/owls/v3/bin:/Users/owls/v3/bin:/Users/owls/v3/bin:/Users/owls/v3/bin:/Users/owls/v3/bin:/Users/owls/v3/bin:/Users/owls/v3/bin:/Users/owls/v3/bin:/Users/owls/v3/bin:/Users/owls/v3/bin:/Users/owls/v3/bin:/Users/owls/v3/bin:/Users/owls/v3/bin:/Users/owls/v3/bin:/Users/owls/v3/bin:/Users/owls/v3/bin:/Users/owls/v3/bin:/Users/owls/v3/bin:/Users/owls/v3/bin:/Users/owls/v3/bin:/Users/owls/v3/bin:/Users/owls/v3/bin:/Users/owls/v3/bin:/Users/owls/v3/bin:/Users/owls/v3/bin:/Users/owls/v3/bin:/Users/owls/v3/bin:/Users/owls/v3/bin:/Users/owls/v3/bin:/Users/owls/v3/bin:/Users/owls/v3/bin:/Users/owls/.cargo/bin:/opt/homebrew/bin:/usr/local/bin:/usr/bin:/bin:/usr/sbin:/sbin\n"
     ]
    }
   ],
   "source": [
    "#!echo 'export MAGICK_HOME=/opt/homebrew/Cellar/imagemagick/7.1.0-62/' >> ~/.bash_profile\n",
    "#!echo 'export PATH=\"$MAGICK_HOME/bin:$PATH\"' >> ~/.bash_profile\n",
    "#!echo 'export PATH=\"/opt/homebrew/Cellar/imagemagick/7.1.0-62/bin:$PATH\"' >> ~/.bash_profile\n",
    "!echo $PATH | grep brew\n"
   ]
  },
  {
   "cell_type": "code",
   "execution_count": null,
   "metadata": {},
   "outputs": [],
   "source": []
  },
  {
   "cell_type": "markdown",
   "metadata": {},
   "source": [
    "##  !--- current"
   ]
  },
  {
   "cell_type": "code",
   "execution_count": 2,
   "metadata": {},
   "outputs": [
    {
     "name": "stdout",
     "output_type": "stream",
     "text": [
      "/Users/owls/v3/bin:/Users/owls/v3/bin:/Users/owls/v3/bin:/Users/owls/v3/bin:/Users/owls/v3/bin:/Users/owls/v3/bin:/Users/owls/v3/bin:/Users/owls/v3/bin:/Users/owls/v3/bin:/Users/owls/v3/bin:/Users/owls/v3/bin:/Users/owls/v3/bin:/Users/owls/v3/bin:/Users/owls/v3/bin:/Users/owls/v3/bin:/Users/owls/v3/bin:/Users/owls/v3/bin:/Users/owls/v3/bin:/Users/owls/v3/bin:/Users/owls/v3/bin:/Users/owls/v3/bin:/Users/owls/v3/bin:/Users/owls/v3/bin:/Users/owls/v3/bin:/Users/owls/v3/bin:/Users/owls/v3/bin:/Users/owls/v3/bin:/Users/owls/v3/bin:/Users/owls/v3/bin:/Users/owls/v3/bin:/Users/owls/v3/bin:/Users/owls/v3/bin:/Users/owls/v3/bin:/Users/owls/v3/bin:/Users/owls/v3/bin:/Users/owls/v3/bin:/Users/owls/v3/bin:/Users/owls/v3/bin:/Users/owls/v3/bin:/Users/owls/v3/bin:/Users/owls/v3/bin:/Users/owls/v3/bin:/Users/owls/v3/bin:/Users/owls/v3/bin:/Users/owls/v3/bin:/Users/owls/v3/bin:/Users/owls/v3/bin:/Users/owls/v3/bin:/Users/owls/v3/bin:/Users/owls/v3/bin:/Users/owls/v3/bin:/Users/owls/v3/bin:/Users/owls/v3/bin:/Users/owls/v3/bin:/Users/owls/v3/bin:/Users/owls/v3/bin:/Users/owls/v3/bin:/Users/owls/v3/bin:/Users/owls/v3/bin:/Users/owls/v3/bin:/Users/owls/v3/bin:/Users/owls/v3/bin:/Users/owls/v3/bin:/Users/owls/v3/bin:/Users/owls/v3/bin:/Users/owls/v3/bin:/Users/owls/v3/bin:/Users/owls/v3/bin:/Users/owls/v3/bin:/Users/owls/v3/bin:/Users/owls/v3/bin:/Users/owls/v3/bin:/Users/owls/v3/bin:/Users/owls/v3/bin:/Users/owls/v3/bin:/Users/owls/v3/bin:/Users/owls/v3/bin:/Users/owls/v3/bin:/Users/owls/v3/bin:/Users/owls/v3/bin:/Users/owls/v3/bin:/Users/owls/v3/bin:/Users/owls/v3/bin:/Users/owls/v3/bin:/Users/owls/v3/bin:/Users/owls/v3/bin:/Users/owls/v3/bin:/Users/owls/v3/bin:/Users/owls/v3/bin:/Users/owls/v3/bin:/Users/owls/v3/bin:/Users/owls/v3/bin:/Users/owls/v3/bin:/Users/owls/v3/bin:/Users/owls/v3/bin:/Users/owls/v3/bin:/Users/owls/v3/bin:/Users/owls/v3/bin:/Users/owls/v3/bin:/Users/owls/v3/bin:/Users/owls/v3/bin:/Users/owls/v3/bin:/Users/owls/v3/bin:/Users/owls/v3/bin:/Users/owls/v3/bin:/Users/owls/v3/bin:/Users/owls/v3/bin:/Users/owls/v3/bin:/Users/owls/v3/bin:/Users/owls/v3/bin:/Users/owls/v3/bin:/Users/owls/v3/bin:/Users/owls/v3/bin:/Users/owls/v3/bin:/Users/owls/v3/bin:/Users/owls/v3/bin:/Users/owls/v3/bin:/Users/owls/v3/bin:/Users/owls/v3/bin:/Users/owls/v3/bin:/Users/owls/v3/bin:/Users/owls/v3/bin:/Users/owls/v3/bin:/Users/owls/v3/bin:/Users/owls/v3/bin:/Users/owls/v3/bin:/Users/owls/v3/bin:/Users/owls/v3/bin:/Users/owls/v3/bin:/Users/owls/v3/bin:/Users/owls/v3/bin:/Users/owls/v3/bin:/Users/owls/v3/bin:/Users/owls/v3/bin:/Users/owls/v3/bin:/Users/owls/v3/bin:/Users/owls/v3/bin:/Users/owls/v3/bin:/Users/owls/v3/bin:/Users/owls/v3/bin:/Users/owls/v3/bin:/Users/owls/v3/bin:/Users/owls/v3/bin:/Users/owls/v3/bin:/Users/owls/v3/bin:/Users/owls/v3/bin:/Users/owls/v3/bin:/Users/owls/v3/bin:/Users/owls/v3/bin:/Users/owls/v3/bin:/Users/owls/v3/bin:/Users/owls/v3/bin:/Users/owls/v3/bin:/Users/owls/v3/bin:/Users/owls/v3/bin:/Users/owls/v3/bin:/Users/owls/v3/bin:/Users/owls/.cargo/bin:/opt/homebrew/bin:/usr/local/bin:/usr/bin:/bin:/usr/sbin:/sbin\n"
     ]
    }
   ],
   "source": [
    "!echo $PATH\n"
   ]
  },
  {
   "cell_type": "code",
   "execution_count": 5,
   "metadata": {},
   "outputs": [
    {
     "ename": "AttributeError",
     "evalue": "module 'wand.version' has no attribute 'MAGICK_VERSION'",
     "output_type": "error",
     "traceback": [
      "\u001b[0;31m---------------------------------------------------------------------------\u001b[0m",
      "\u001b[0;31mAttributeError\u001b[0m                            Traceback (most recent call last)",
      "\u001b[1;32m/Users/owls/Documents/projects/imi_forums/wi_decisions/0 - Explore.ipynb Cell 25\u001b[0m in \u001b[0;36m<cell line: 2>\u001b[0;34m()\u001b[0m\n\u001b[1;32m      <a href='vscode-notebook-cell:/Users/owls/Documents/projects/imi_forums/wi_decisions/0%20-%20Explore.ipynb#ch0000022?line=0'>1</a>\u001b[0m \u001b[39mimport\u001b[39;00m \u001b[39mwand\u001b[39;00m\u001b[39m.\u001b[39;00m\u001b[39mversion\u001b[39;00m\n\u001b[0;32m----> <a href='vscode-notebook-cell:/Users/owls/Documents/projects/imi_forums/wi_decisions/0%20-%20Explore.ipynb#ch0000022?line=1'>2</a>\u001b[0m \u001b[39mprint\u001b[39m(wand\u001b[39m.\u001b[39;49mversion\u001b[39m.\u001b[39;49mMAGICK_VERSION)\n",
      "\u001b[0;31mAttributeError\u001b[0m: module 'wand.version' has no attribute 'MAGICK_VERSION'"
     ]
    }
   ],
   "source": [
    "import wand.version\n",
    "print(wand.version.MAGICK_VERSION)"
   ]
  },
  {
   "cell_type": "code",
   "execution_count": 3,
   "metadata": {},
   "outputs": [],
   "source": [
    "PATH=\"$MAGICK_HOME/bin:$PATH\"\n",
    "PATH=\"/opt/homebrew/Cellar/imagemagick/7.1.0-62/bin:$PATH\""
   ]
  },
  {
   "cell_type": "code",
   "execution_count": 4,
   "metadata": {},
   "outputs": [
    {
     "ename": "ImportError",
     "evalue": "MagickWand shared library not found.\nYou probably had not installed ImageMagick library.\nTry to install:\n  brew install freetype imagemagick",
     "output_type": "error",
     "traceback": [
      "\u001b[0;31m---------------------------------------------------------------------------\u001b[0m",
      "\u001b[0;31mOSError\u001b[0m                                   Traceback (most recent call last)",
      "File \u001b[0;32m~/v3/lib/python3.10/site-packages/wand/api.py:154\u001b[0m, in \u001b[0;36m<module>\u001b[0;34m\u001b[0m\n\u001b[1;32m    153\u001b[0m \u001b[39mtry\u001b[39;00m:\n\u001b[0;32m--> 154\u001b[0m     libraries \u001b[39m=\u001b[39m load_library()\n\u001b[1;32m    155\u001b[0m \u001b[39mexcept\u001b[39;00m (\u001b[39mOSError\u001b[39;00m, \u001b[39mIOError\u001b[39;00m):\n",
      "File \u001b[0;32m~/v3/lib/python3.10/site-packages/wand/api.py:143\u001b[0m, in \u001b[0;36mload_library\u001b[0;34m()\u001b[0m\n\u001b[1;32m    142\u001b[0m     \u001b[39mreturn\u001b[39;00m libwand, libmagick\n\u001b[0;32m--> 143\u001b[0m \u001b[39mraise\u001b[39;00m \u001b[39mIOError\u001b[39;00m(\u001b[39m'\u001b[39m\u001b[39mcannot find library; tried paths: \u001b[39m\u001b[39m'\u001b[39m \u001b[39m+\u001b[39m \u001b[39mrepr\u001b[39m(tried_paths))\n",
      "\u001b[0;31mOSError\u001b[0m: cannot find library; tried paths: []",
      "\nDuring handling of the above exception, another exception occurred:\n",
      "\u001b[0;31mImportError\u001b[0m                               Traceback (most recent call last)",
      "\u001b[1;32m/Users/owls/Documents/projects/imi_forums/wi_decisions/0 - Explore.ipynb Cell 27\u001b[0m in \u001b[0;36m<cell line: 5>\u001b[0;34m()\u001b[0m\n\u001b[1;32m      <a href='vscode-notebook-cell:/Users/owls/Documents/projects/imi_forums/wi_decisions/0%20-%20Explore.ipynb#ch0000023?line=2'>3</a>\u001b[0m \u001b[39mfrom\u001b[39;00m \u001b[39mPIL\u001b[39;00m \u001b[39mimport\u001b[39;00m Image\n\u001b[1;32m      <a href='vscode-notebook-cell:/Users/owls/Documents/projects/imi_forums/wi_decisions/0%20-%20Explore.ipynb#ch0000023?line=3'>4</a>\u001b[0m \u001b[39mimport\u001b[39;00m \u001b[39mpytesseract\u001b[39;00m\n\u001b[0;32m----> <a href='vscode-notebook-cell:/Users/owls/Documents/projects/imi_forums/wi_decisions/0%20-%20Explore.ipynb#ch0000023?line=4'>5</a>\u001b[0m \u001b[39mfrom\u001b[39;00m \u001b[39mwand\u001b[39;00m\u001b[39m.\u001b[39;00m\u001b[39mimage\u001b[39;00m \u001b[39mimport\u001b[39;00m Image \u001b[39mas\u001b[39;00m wi\n\u001b[1;32m      <a href='vscode-notebook-cell:/Users/owls/Documents/projects/imi_forums/wi_decisions/0%20-%20Explore.ipynb#ch0000023?line=5'>6</a>\u001b[0m \u001b[39mimport\u001b[39;00m \u001b[39mgc\u001b[39;00m\n\u001b[1;32m      <a href='vscode-notebook-cell:/Users/owls/Documents/projects/imi_forums/wi_decisions/0%20-%20Explore.ipynb#ch0000023?line=7'>8</a>\u001b[0m pdf_path \u001b[39m=\u001b[39m \u001b[39m'\u001b[39m\u001b[39m./page3.pdf\u001b[39m\u001b[39m'\u001b[39m\n",
      "File \u001b[0;32m~/v3/lib/python3.10/site-packages/wand/image.py:18\u001b[0m, in \u001b[0;36m<module>\u001b[0;34m\u001b[0m\n\u001b[1;32m     15\u001b[0m \u001b[39mimport\u001b[39;00m \u001b[39mnumbers\u001b[39;00m\n\u001b[1;32m     16\u001b[0m \u001b[39mimport\u001b[39;00m \u001b[39mweakref\u001b[39;00m\n\u001b[0;32m---> 18\u001b[0m \u001b[39mfrom\u001b[39;00m \u001b[39m.\u001b[39;00m \u001b[39mimport\u001b[39;00m assertions\n\u001b[1;32m     19\u001b[0m \u001b[39mfrom\u001b[39;00m \u001b[39m.\u001b[39;00m\u001b[39mapi\u001b[39;00m \u001b[39mimport\u001b[39;00m libc, libmagick, library\n\u001b[1;32m     20\u001b[0m \u001b[39mfrom\u001b[39;00m \u001b[39m.\u001b[39;00m\u001b[39mcolor\u001b[39;00m \u001b[39mimport\u001b[39;00m Color\n",
      "File \u001b[0;32m~/v3/lib/python3.10/site-packages/wand/assertions.py:155\u001b[0m, in \u001b[0;36m<module>\u001b[0;34m\u001b[0m\n\u001b[1;32m    151\u001b[0m     in_list(options, label, \u001b[39m*\u001b[39m\u001b[39m*\u001b[39mkwargs)\n\u001b[1;32m    154\u001b[0m \u001b[39m# Lazy load recursive import\u001b[39;00m\n\u001b[0;32m--> 155\u001b[0m \u001b[39mfrom\u001b[39;00m \u001b[39m.\u001b[39;00m\u001b[39mcolor\u001b[39;00m \u001b[39mimport\u001b[39;00m Color\n",
      "File \u001b[0;32m~/v3/lib/python3.10/site-packages/wand/color.py:10\u001b[0m, in \u001b[0;36m<module>\u001b[0;34m\u001b[0m\n\u001b[1;32m      7\u001b[0m \u001b[39mimport\u001b[39;00m \u001b[39mctypes\u001b[39;00m\n\u001b[1;32m      8\u001b[0m \u001b[39mimport\u001b[39;00m \u001b[39mnumbers\u001b[39;00m\n\u001b[0;32m---> 10\u001b[0m \u001b[39mfrom\u001b[39;00m \u001b[39m.\u001b[39;00m\u001b[39mapi\u001b[39;00m \u001b[39mimport\u001b[39;00m library\n\u001b[1;32m     11\u001b[0m \u001b[39mfrom\u001b[39;00m \u001b[39m.\u001b[39;00m\u001b[39mcdefs\u001b[39;00m\u001b[39m.\u001b[39;00m\u001b[39mstructures\u001b[39;00m \u001b[39mimport\u001b[39;00m MagickPixelPacket, PixelInfo\n\u001b[1;32m     12\u001b[0m \u001b[39mfrom\u001b[39;00m \u001b[39m.\u001b[39;00m\u001b[39mcompat\u001b[39;00m \u001b[39mimport\u001b[39;00m binary, text\n",
      "File \u001b[0;32m~/v3/lib/python3.10/site-packages/wand/api.py:178\u001b[0m, in \u001b[0;36m<module>\u001b[0;34m\u001b[0m\n\u001b[1;32m    176\u001b[0m         \u001b[39melif\u001b[39;00m distname \u001b[39min\u001b[39;00m (\u001b[39m'\u001b[39m\u001b[39mfedora\u001b[39m\u001b[39m'\u001b[39m, \u001b[39m'\u001b[39m\u001b[39mcentos\u001b[39m\u001b[39m'\u001b[39m, \u001b[39m'\u001b[39m\u001b[39mredhat\u001b[39m\u001b[39m'\u001b[39m):\n\u001b[1;32m    177\u001b[0m             msg \u001b[39m=\u001b[39m \u001b[39m'\u001b[39m\u001b[39myum install ImageMagick-devel\u001b[39m\u001b[39m'\u001b[39m\n\u001b[0;32m--> 178\u001b[0m     \u001b[39mraise\u001b[39;00m \u001b[39mImportError\u001b[39;00m(\u001b[39m'\u001b[39m\u001b[39mMagickWand shared library not found.\u001b[39m\u001b[39m\\n\u001b[39;00m\u001b[39m'\u001b[39m\n\u001b[1;32m    179\u001b[0m                       \u001b[39m'\u001b[39m\u001b[39mYou probably had not installed ImageMagick library.\u001b[39m\u001b[39m\\n\u001b[39;00m\u001b[39m'\u001b[39m\n\u001b[1;32m    180\u001b[0m                       \u001b[39m'\u001b[39m\u001b[39mTry to install:\u001b[39m\u001b[39m\\n\u001b[39;00m\u001b[39m  \u001b[39m\u001b[39m'\u001b[39m \u001b[39m+\u001b[39m msg)\n\u001b[1;32m    182\u001b[0m \u001b[39m#: (:class:`ctypes.CDLL`) The MagickWand library.\u001b[39;00m\n\u001b[1;32m    183\u001b[0m library \u001b[39m=\u001b[39m libraries[\u001b[39m0\u001b[39m]\n",
      "\u001b[0;31mImportError\u001b[0m: MagickWand shared library not found.\nYou probably had not installed ImageMagick library.\nTry to install:\n  brew install freetype imagemagick"
     ]
    }
   ],
   "source": [
    "import os\n",
    "import io\n",
    "from PIL import Image\n",
    "import pytesseract\n",
    "from wand.image import Image as wi\n",
    "import gc\n",
    "\n",
    "pdf_path = './page3.pdf'\n",
    "\n",
    "pdf=wi(filename=pdf_path,resolution=300)\n",
    "pdfImg=pdf.convert('jpeg')\n",
    "\n",
    "imgBlobs=[]\n",
    "extracted_text=[]\n",
    "\n",
    "def Get_text_from_image(pdf_path):\n",
    "    pdf=wi(filename=pdf_path,resolution=300)\n",
    "    pdfImg=pdf.convert('jpeg')\n",
    "    imgBlobs=[]\n",
    "    extracted_text=[]\n",
    "    for img in pdfImg.sequence:\n",
    "        page=wi(image=img)\n",
    "        imgBlobs.append(page.make_blob('jpeg'))\n",
    "\n",
    "    for imgBlob in imgBlobs:\n",
    "        im=Image.open(io.BytesIO(imgBlob))\n",
    "        text=pytesseract.image_to_string(im,lang='eng')\n",
    "        extracted_text.append(text)\n",
    "\n",
    "    return (extracted_text)"
   ]
  },
  {
   "cell_type": "code",
   "execution_count": null,
   "metadata": {},
   "outputs": [],
   "source": [
    "# https://stackoverflow.com/questions/45480280/convert-scanned-pdf-to-text-python\n",
    "import glob\n",
    "from pdf2image import convert_from_path\n",
    "\n",
    "pdfs = glob.glob(r\"page3.pdf\")\n",
    "\n",
    "for pdf_path in pdfs:\n",
    "    pages = convert_from_path(pdf_path, 500)\n",
    "\n",
    "    for pageNum,imgBlob in enumerate(pages):\n",
    "        text = pytesseract.image_to_string(imgBlob,lang='eng')\n",
    "\n",
    "        with open(f'{pdf_path[:-4]}_page{pageNum}.txt', 'w') as the_file:\n",
    "            the_file.write(text)"
   ]
  },
  {
   "cell_type": "code",
   "execution_count": null,
   "metadata": {},
   "outputs": [],
   "source": []
  },
  {
   "cell_type": "code",
   "execution_count": null,
   "metadata": {},
   "outputs": [],
   "source": []
  }
 ],
 "metadata": {
  "kernelspec": {
   "display_name": "Python 3.10.5 ('v3')",
   "language": "python",
   "name": "python3"
  },
  "language_info": {
   "codemirror_mode": {
    "name": "ipython",
    "version": 3
   },
   "file_extension": ".py",
   "mimetype": "text/x-python",
   "name": "python",
   "nbconvert_exporter": "python",
   "pygments_lexer": "ipython3",
   "version": "3.10.5"
  },
  "orig_nbformat": 4,
  "vscode": {
   "interpreter": {
    "hash": "7605221d54420214921005f3a3f402d7571e3f80342b3638f6ed8edbc81e4638"
   }
  }
 },
 "nbformat": 4,
 "nbformat_minor": 2
}
