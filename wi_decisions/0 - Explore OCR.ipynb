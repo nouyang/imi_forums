{
 "cells": [
  {
   "cell_type": "markdown",
   "metadata": {},
   "source": [
    "# 21 Feb 2023\n",
    "# nrobot\n",
    "\n",
    "https://online.drl.wi.gov/orders/searchorders.aspx\n",
    " - Wisconsin Department of Safety and Professional Services\n",
    " - Health & Business Renewal Application "
   ]
  },
  {
   "cell_type": "code",
   "execution_count": 1,
   "metadata": {},
   "outputs": [],
   "source": [
    "# https://towardsdatascience.com/how-to-extract-text-from-pdf-245482a96de7"
   ]
  },
  {
   "cell_type": "markdown",
   "metadata": {},
   "source": [
    "# install libraries"
   ]
  },
  {
   "cell_type": "code",
   "execution_count": 2,
   "metadata": {},
   "outputs": [],
   "source": [
    "#!pip install pdfplumber\n",
    "# !pip install pdfminer3 # old / unmaintained\n",
    "# https://github.com/pdfminer/pdfminer.six\n",
    "# !pip install pdfminer.six # also fails -- I realized that's because the \n",
    "# text of the order is actually scanned (image?)\n",
    "#!pip install borb\n",
    "# https://pyimagesearch.com/2021/08/16/installing-tesseract-pytesseract-and-python-ocr-packages-on-your-system/\n",
    "#!pip install pytesseract\n",
    "#!brew install freetype imagemagick\n",
    "#!pip install pdf2image"
   ]
  },
  {
   "cell_type": "markdown",
   "metadata": {},
   "source": [
    "# try various things"
   ]
  },
  {
   "cell_type": "code",
   "execution_count": 3,
   "metadata": {},
   "outputs": [
    {
     "ename": "ModuleNotFoundError",
     "evalue": "No module named 'pdfplumber'",
     "output_type": "error",
     "traceback": [
      "\u001b[0;31m---------------------------------------------------------------------------\u001b[0m",
      "\u001b[0;31mModuleNotFoundError\u001b[0m                       Traceback (most recent call last)",
      "Cell \u001b[0;32mIn [3], line 2\u001b[0m\n\u001b[1;32m      1\u001b[0m \u001b[38;5;66;03m# only extracts the first (easy) page \u001b[39;00m\n\u001b[0;32m----> 2\u001b[0m \u001b[38;5;28;01mimport\u001b[39;00m \u001b[38;5;21;01mpdfplumber\u001b[39;00m \n\u001b[1;32m      3\u001b[0m \u001b[38;5;28;01mwith\u001b[39;00m pdfplumber\u001b[38;5;241m.\u001b[39mopen(\u001b[38;5;124mr\u001b[39m\u001b[38;5;124m'\u001b[39m\u001b[38;5;124m./ORDER0008271-00019637.pdf\u001b[39m\u001b[38;5;124m'\u001b[39m) \u001b[38;5;28;01mas\u001b[39;00m pdf:\n\u001b[1;32m      4\u001b[0m     first_page \u001b[38;5;241m=\u001b[39m pdf\u001b[38;5;241m.\u001b[39mpages[\u001b[38;5;241m0\u001b[39m]\n",
      "\u001b[0;31mModuleNotFoundError\u001b[0m: No module named 'pdfplumber'"
     ]
    }
   ],
   "source": [
    "# only extracts the first (easy) page \n",
    "import pdfplumber \n",
    "with pdfplumber.open(r'./ORDER0008271-00019637.pdf') as pdf:\n",
    "    first_page = pdf.pages[0]\n",
    "    #print(first_page.extract_text())"
   ]
  },
  {
   "cell_type": "code",
   "execution_count": 4,
   "metadata": {},
   "outputs": [],
   "source": [
    "from pdfminer.high_level import extract_text\n",
    "\n",
    "text = extract_text(\"./ORDER0008271-00019637.pdf\")\n",
    "#print(text)"
   ]
  },
  {
   "cell_type": "code",
   "execution_count": 5,
   "metadata": {},
   "outputs": [],
   "source": [
    "# pdf info: created with www.pdfsharp.com"
   ]
  },
  {
   "cell_type": "code",
   "execution_count": 6,
   "metadata": {},
   "outputs": [],
   "source": [
    "# https://stackabuse.com/applying-ocr-to-a-scanned-pdf-in-python-using-borb/"
   ]
  },
  {
   "cell_type": "code",
   "execution_count": 7,
   "metadata": {},
   "outputs": [
    {
     "name": "stdout",
     "output_type": "stream",
     "text": [
      "Producer: PDFsharp 1.31.1789-g \\(www.pdfsharp.com\\)\n",
      "Num. of pages: 1\n",
      "WISCONSIN DEPARTMENT OF\n",
      "SAFETY AND PROFESSIONAL SERVICES\n",
      "Wisconsin Department of Safety and Professional Services\n",
      "Access to the Public Records of the Reports of Decisions\n",
      "This Reports of Decisions document was retrieved from the Wisconsin Department of Safety and\n",
      "Professional Services website. These records are open to public view under Wisconsin’s Open\n",
      "Records law, sections 19.31-19.39 Wisconsin Statutes.\n",
      "Please read this agreement prior to viewing the Decision:\n",
      " The Reports of Decisions is de\n"
     ]
    }
   ],
   "source": [
    "# New imports\n",
    "import typing\n",
    "from pathlib import Path\n",
    "\n",
    "from borb.pdf import Document\n",
    "from borb.pdf import Page\n",
    "from borb.toolkit import SimpleTextExtraction\n",
    "#from borb.pdf import SingleColumnLayout\n",
    "#from borb.pdf import Paragraph\n",
    "from borb.pdf import PDF\n",
    "\n",
    "def read_modified_document():\n",
    "\n",
    "    # read the Document\n",
    "    doc: typing.Optional[Document] = None\n",
    "    l: SimpleTextExtraction = SimpleTextExtraction()\n",
    "\n",
    "    with open(\"./ORDER0008271-00019637.pdf\", \"rb\") as in_file_handle:\n",
    "        #doc = PDF.loads(in_file_handle)\n",
    "        doc = PDF.loads(in_file_handle, [l])\n",
    "\n",
    "    # check whether we have read a Document\n",
    "    assert doc is not None\n",
    "\n",
    "    # print the \\Producer key from the \\Info dictionary\n",
    "    print(\"Producer: %s\" % doc.get_document_info().get_producer())\n",
    "    print(f'Num. of pages: {len(l.get_text())}')\n",
    "    print(l.get_text()[0][:500])\n",
    "    #print(f'# of Pages: {l.shape}')\n",
    "    return l\n",
    "\n",
    "l = read_modified_document()\n"
   ]
  },
  {
   "cell_type": "code",
   "execution_count": 8,
   "metadata": {},
   "outputs": [],
   "source": [
    "# https://github.com/jorisschellekens/borb-examples#72-performing-ocr-on-a-pdf"
   ]
  },
  {
   "cell_type": "code",
   "execution_count": 9,
   "metadata": {},
   "outputs": [
    {
     "name": "stdout",
     "output_type": "stream",
     "text": [
      "\u001b[32m==>\u001b[0m \u001b[1mtesseract\u001b[0m: stable 5.3.0 (bottled), HEAD\n",
      "OCR (Optical Character Recognition) engine\n",
      "\u001b[4mhttps://github.com/tesseract-ocr/\u001b[24m\n",
      "/opt/homebrew/Cellar/tesseract/5.3.0_1 (73 files, 32.2MB) *\n",
      "  Poured from bottle on 2023-01-23 at 18:01:00\n",
      "From: \u001b[4mhttps://github.com/Homebrew/homebrew-core/blob/HEAD/Formula/tesseract.rb\u001b[24m\n",
      "License: Apache-2.0\n",
      "\u001b[34m==>\u001b[0m \u001b[1mDependencies\u001b[0m\n",
      "Build: \u001b[1mautoconf \u001b[32m✔\u001b[0m\u001b[0m, \u001b[1mautomake \u001b[32m✔\u001b[0m\u001b[0m, \u001b[1mlibtool \u001b[32m✔\u001b[0m\u001b[0m, \u001b[1mpkg-config \u001b[32m✔\u001b[0m\u001b[0m\n",
      "Required: \u001b[1mcairo \u001b[32m✔\u001b[0m\u001b[0m, \u001b[1micu4c \u001b[32m✔\u001b[0m\u001b[0m, \u001b[1mleptonica \u001b[32m✔\u001b[0m\u001b[0m, \u001b[1mlibarchive \u001b[32m✔\u001b[0m\u001b[0m, \u001b[1mpango \u001b[32m✔\u001b[0m\u001b[0m\n",
      "\u001b[34m==>\u001b[0m \u001b[1mOptions\u001b[0m\n",
      "--HEAD\n",
      "\tInstall HEAD version\n",
      "\u001b[34m==>\u001b[0m \u001b[1mCaveats\u001b[0m\n",
      "This formula contains only the \"eng\", \"osd\", and \"snum\" language data files.\n",
      "If you need any other supported languages, run `brew install tesseract-lang`.\n",
      "\u001b[34m==>\u001b[0m \u001b[1mAnalytics\u001b[0m\n",
      "install: 175,981 (30 days), 465,732 (90 days), 1,465,418 (365 days)\n",
      "install-on-request: 66,153 (30 days), 146,394 (90 days), 345,527 (365 days)\n",
      "build-error: 10 (30 days)\n"
     ]
    }
   ],
   "source": [
    "!brew info tesseract"
   ]
  },
  {
   "cell_type": "code",
   "execution_count": 10,
   "metadata": {},
   "outputs": [],
   "source": [
    "# TesseractError: (1, 'Error opening data file /opt/homebrew/Cellar/tesseract/5.3.0_1/share/eng.traineddata Please make sure the TESSDATA_PREFIX environment variable is set to your \"tessdata\" directory. Failed loading language \\'eng\\' Tesseract couldn\\'t load any languages! Could not initialize tesseract.')\n",
    "\n",
    "# > Fix with brew info tesseract + share + tessdata, as below"
   ]
  },
  {
   "cell_type": "code",
   "execution_count": 11,
   "metadata": {},
   "outputs": [
    {
     "name": "stdout",
     "output_type": "stream",
     "text": [
      "\u001b[34mconfigs\u001b[m\u001b[m          osd.traineddata  snum.traineddata\n",
      "eng.traineddata  pdf.ttf          \u001b[34mtessconfigs\u001b[m\u001b[m\n"
     ]
    }
   ],
   "source": [
    "!ls /opt/homebrew/Cellar/tesseract/5.3.0_1/share/tessdata"
   ]
  },
  {
   "cell_type": "code",
   "execution_count": 12,
   "metadata": {},
   "outputs": [
    {
     "data": {
      "text/plain": [
       "{}"
      ]
     },
     "execution_count": 12,
     "metadata": {},
     "output_type": "execute_result"
    }
   ],
   "source": [
    "from borb.pdf import Document\n",
    "from borb.pdf import PDF\n",
    "from borb.toolkit.ocr.ocr_as_optional_content_group import OCRAsOptionalContentGroup\n",
    "\n",
    "from pathlib import Path\n",
    "\n",
    "# set up everything for OCR\n",
    "tesseract_data_dir: Path = Path(\"/opt/homebrew/Cellar/tesseract/5.3.0_1/share/tessdata\")\n",
    "assert tesseract_data_dir.exists()\n",
    "#l: OCRAsOptionalContentGroup = OCRAsOptionalContentGroup(tesseract_data_dir)\n",
    "l: SimpleTextExtraction = SimpleTextExtraction()\n",
    "\n",
    "# read Document\n",
    "doc: typing.Optional[Document] = None\n",
    "#with open(\"ORDER0008271-00019637.pdf\", \"rb\") as pdf_file_handle:\n",
    "with open(\"page3.pdf\", \"rb\") as pdf_file_handle:\n",
    "    doc = PDF.loads(pdf_file_handle, [l])\n",
    "\n",
    "assert doc is not None\n",
    "len(l.get_text())\n",
    "l.get_text()\n"
   ]
  },
  {
   "cell_type": "code",
   "execution_count": null,
   "metadata": {},
   "outputs": [],
   "source": [
    "# https://stackoverflow.com/questions/45480280/convert-scanned-pdf-to-text-python"
   ]
  },
  {
   "cell_type": "code",
   "execution_count": null,
   "metadata": {},
   "outputs": [
    {
     "ename": "ModuleNotFoundError",
     "evalue": "No module named 'pdf2image'",
     "output_type": "error",
     "traceback": [
      "\u001b[0;31m---------------------------------------------------------------------------\u001b[0m\n",
      "\u001b[0;31mModuleNotFoundError\u001b[0m                       Traceback (most recent call last)\n",
      "Cell \u001b[0;32mIn [11], line 3\u001b[0m\n",
      "\u001b[1;32m      1\u001b[0m \u001b[38;5;66;03m# https://stackoverflow.com/questions/45480280/convert-scanned-pdf-to-text-python\u001b[39;00m\n",
      "\u001b[1;32m      2\u001b[0m \u001b[38;5;28;01mimport\u001b[39;00m \u001b[38;5;21;01mglob\u001b[39;00m\n",
      "\u001b[0;32m----> 3\u001b[0m \u001b[38;5;28;01mfrom\u001b[39;00m \u001b[38;5;21;01mpdf2image\u001b[39;00m \u001b[38;5;28;01mimport\u001b[39;00m convert_from_path\n",
      "\u001b[1;32m      5\u001b[0m pdfs \u001b[38;5;241m=\u001b[39m glob\u001b[38;5;241m.\u001b[39mglob(\u001b[38;5;124mr\u001b[39m\u001b[38;5;124m\"\u001b[39m\u001b[38;5;124mpage3.pdf\u001b[39m\u001b[38;5;124m\"\u001b[39m)\n",
      "\u001b[1;32m      7\u001b[0m \u001b[38;5;28;01mfor\u001b[39;00m pdf_path \u001b[38;5;129;01min\u001b[39;00m pdfs:\n",
      "\n",
      "\u001b[0;31mModuleNotFoundError\u001b[0m: No module named 'pdf2image'"
     ]
    }
   ],
   "source": [
    "# https://stackoverflow.com/questions/45480280/convert-scanned-pdf-to-text-python\n",
    "import glob\n",
    "from pdf2image import convert_from_path\n",
    "\n",
    "pdfs = glob.glob(r\"page3.pdf\")\n",
    "\n",
    "for pdf_path in pdfs:\n",
    "    pages = convert_from_path(pdf_path, 500)\n",
    "\n",
    "    for pageNum,imgBlob in enumerate(pages):\n",
    "        text = pytesseract.image_to_string(imgBlob,lang='eng')\n",
    "\n",
    "        with open(f'{pdf_path[:-4]}_page{pageNum}.txt', 'w') as the_file:\n",
    "            the_file.write(text)"
   ]
  },
  {
   "cell_type": "markdown",
   "metadata": {},
   "source": [
    "# try Imagemagick OCR"
   ]
  },
  {
   "cell_type": "code",
   "execution_count": 4,
   "metadata": {},
   "outputs": [],
   "source": [
    "# ImportError: MagickWand shared library not found.\n",
    "# You probably had not installed ImageMagick library.\n",
    "# cannot find libwand, libmagick\n",
    "# https://stackoverflow.com/a/71591742/851192 "
   ]
  },
  {
   "cell_type": "code",
   "execution_count": 5,
   "metadata": {},
   "outputs": [
    {
     "name": "stdout",
     "output_type": "stream",
     "text": [
      "/bin/bash: line 1: brew: command not found\n"
     ]
    }
   ],
   "source": [
    "!brew info imagemagick\n"
   ]
  },
  {
   "cell_type": "code",
   "execution_count": 6,
   "metadata": {},
   "outputs": [],
   "source": [
    "#!echo 'export MAGICK_HOME=/opt/homebrew/Cellar/imagemagick/7.1.0-62/' >> ~/.bash_profile\n",
    "#!echo 'export PATH=\"$MAGICK_HOME/bin:$PATH\"' >> ~/.bash_profile\n",
    "#!echo 'export PATH=\"/opt/homebrew/Cellar/imagemagick/7.1.0-62/bin:$PATH\"' >> ~/.bash_profile\n",
    "!echo $PATH | grep brew\n"
   ]
  },
  {
   "cell_type": "code",
   "execution_count": null,
   "metadata": {},
   "outputs": [],
   "source": []
  },
  {
   "cell_type": "markdown",
   "metadata": {},
   "source": [
    "##  !--- current"
   ]
  },
  {
   "cell_type": "code",
   "execution_count": 3,
   "metadata": {},
   "outputs": [
    {
     "name": "stdout",
     "output_type": "stream",
     "text": [
      "/home/chai/v3/bin:/home/chai/v3/bin:/home/chai/.vscode-server/bin/92d25e35d9bf1a6b16f7d0758f25d48ace11e5b9/bin/remote-cli:/home/chai/.local/bin:/home/chai/.local/bin:/home/chai/miniconda3/bin:/home/chai/miniconda3/condabin:/usr/local/sbin:/usr/local/bin:/usr/sbin:/usr/bin:/sbin:/bin:/usr/games:/usr/local/games:/snap/bin:/home/chai/.local/bin:/home/chai/.local/bin\n"
     ]
    }
   ],
   "source": [
    "!echo $PATH\n"
   ]
  },
  {
   "cell_type": "code",
   "execution_count": 4,
   "metadata": {},
   "outputs": [
    {
     "name": "stdout",
     "output_type": "stream",
     "text": [
      "ImageMagick 6.9.11-60 Q16 x86_64 2021-01-25 https://imagemagick.org\n"
     ]
    }
   ],
   "source": [
    "import wand.version\n",
    "print(wand.version.MAGICK_VERSION)"
   ]
  },
  {
   "cell_type": "code",
   "execution_count": 5,
   "metadata": {},
   "outputs": [],
   "source": [
    "PATH=\"$MAGICK_HOME/bin:$PATH\"\n",
    "PATH=\"/opt/homebrew/Cellar/imagemagick/7.1.0-62/bin:$PATH\""
   ]
  },
  {
   "cell_type": "code",
   "execution_count": 41,
   "metadata": {},
   "outputs": [],
   "source": [
    "import os\n",
    "import io\n",
    "from PIL import Image as pImg \n",
    "import pytesseract\n",
    "from wand.image import Image as wandImg \n",
    "import gc\n",
    "\n",
    "#pdf_path = './page3.pdf'\n",
    "\n",
    "#pdf = wandImg(filename=pdf_path,resolution=300)\n",
    "#pdfImg=pdf.convert('jpeg')\n",
    "\n",
    "imgBlobs=[]\n",
    "extracted_text=[]\n",
    "\n",
    "def get_text_from_image(pdf_path):\n",
    "    pdf = wandImg(filename=pdf_path,resolution=300)\n",
    "    pdf_JPEG = pdf.convert('jpeg')\n",
    "    imgBlobs = []\n",
    "    extracted_text = []\n",
    "\n",
    "    if True:\n",
    "        n = 1 # skip first page\n",
    "    else:\n",
    "        n = 0\n",
    "\n",
    "    for img in pdf_JPEG.sequence[n:]:\n",
    "        page = wandImg(image=img)\n",
    "        imgBlobs.append(page.make_blob('jpeg'))\n",
    "\n",
    "    #print(len(imgBlobs))\n",
    "    for imgBlob in imgBlobs:\n",
    "        img = pImg.open(io.BytesIO(imgBlob))\n",
    "        text=pytesseract.image_to_string(img,lang='eng')\n",
    "        extracted_text.append(text)\n",
    "\n",
    "    return (extracted_text)"
   ]
  },
  {
   "cell_type": "code",
   "execution_count": 45,
   "metadata": {},
   "outputs": [
    {
     "name": "stdout",
     "output_type": "stream",
     "text": [
      "pytesseract.get_tesseract_version()=<Version('5.1.0')>\n"
     ]
    }
   ],
   "source": [
    "print(f'{pytesseract.get_tesseract_version()=}')"
   ]
  },
  {
   "cell_type": "code",
   "execution_count": 47,
   "metadata": {},
   "outputs": [
    {
     "name": "stdout",
     "output_type": "stream",
     "text": [
      "./wisconsin_pdfs/Massage Therapist Or Bodyworker - WI - ORDER0002114-00007904.pdf\n"
     ]
    },
    {
     "data": {
      "text/plain": [
       "datetime.datetime(2023, 2, 27, 16, 7, 2, 236033)"
      ]
     },
     "execution_count": 47,
     "metadata": {},
     "output_type": "execute_result"
    }
   ],
   "source": [
    "import glob\n",
    "fname = sorted(glob.glob('./wisconsin_pdfs/*.pdf'))[0]\n",
    "print(fname)\n",
    "get_text_from_image(fname)\n",
    "from datetime import datetime\n",
    "datetime.now() "
   ]
  },
  {
   "cell_type": "code",
   "execution_count": 48,
   "metadata": {},
   "outputs": [],
   "source": [
    "#!mkdir "
   ]
  },
  {
   "cell_type": "code",
   "execution_count": null,
   "metadata": {},
   "outputs": [],
   "source": []
  },
  {
   "cell_type": "code",
   "execution_count": 49,
   "metadata": {},
   "outputs": [
    {
     "name": "stdout",
     "output_type": "stream",
     "text": [
      "5668\n",
      "5767\n"
     ]
    },
    {
     "ename": "KeyboardInterrupt",
     "evalue": "",
     "output_type": "error",
     "traceback": [
      "\u001b[0;31m---------------------------------------------------------------------------\u001b[0m",
      "\u001b[0;31mKeyboardInterrupt\u001b[0m                         Traceback (most recent call last)",
      "Cell \u001b[0;32mIn [49], line 6\u001b[0m\n\u001b[1;32m      4\u001b[0m get_text_from_image(\u001b[38;5;124m'\u001b[39m\u001b[38;5;124m./wisconsin_pdfs/Massage Therapist or Bodywork Therapist - WI - ORDER0005668-00014483.pdf\u001b[39m\u001b[38;5;124m'\u001b[39m)\n\u001b[1;32m      5\u001b[0m \u001b[38;5;28mprint\u001b[39m(\u001b[38;5;124m'\u001b[39m\u001b[38;5;124m5767\u001b[39m\u001b[38;5;124m'\u001b[39m)\n\u001b[0;32m----> 6\u001b[0m \u001b[43mget_text_from_image\u001b[49m\u001b[43m(\u001b[49m\u001b[38;5;124;43m'\u001b[39;49m\u001b[38;5;124;43m./wisconsin_pdfs/Massage Therapist or Bodywork Therapist - WI - ORDER0005767-00014684.pdf\u001b[39;49m\u001b[38;5;124;43m'\u001b[39;49m\u001b[43m)\u001b[49m\n\u001b[1;32m      7\u001b[0m \u001b[38;5;28mprint\u001b[39m(\u001b[38;5;124m'\u001b[39m\u001b[38;5;124m5768\u001b[39m\u001b[38;5;124m'\u001b[39m)\n\u001b[1;32m      8\u001b[0m get_text_from_image(\u001b[38;5;124m'\u001b[39m\u001b[38;5;124m./wisconsin_pdfs/Massage Therapist or Bodywork Therapist - WI - ORDER0005768-00014685.pdf\u001b[39m\u001b[38;5;124m'\u001b[39m)\n",
      "Cell \u001b[0;32mIn [41], line 34\u001b[0m, in \u001b[0;36mget_text_from_image\u001b[0;34m(pdf_path)\u001b[0m\n\u001b[1;32m     32\u001b[0m \u001b[38;5;28;01mfor\u001b[39;00m imgBlob \u001b[38;5;129;01min\u001b[39;00m imgBlobs:\n\u001b[1;32m     33\u001b[0m     img \u001b[38;5;241m=\u001b[39m pImg\u001b[38;5;241m.\u001b[39mopen(io\u001b[38;5;241m.\u001b[39mBytesIO(imgBlob))\n\u001b[0;32m---> 34\u001b[0m     text\u001b[38;5;241m=\u001b[39m\u001b[43mpytesseract\u001b[49m\u001b[38;5;241;43m.\u001b[39;49m\u001b[43mimage_to_string\u001b[49m\u001b[43m(\u001b[49m\u001b[43mimg\u001b[49m\u001b[43m,\u001b[49m\u001b[43mlang\u001b[49m\u001b[38;5;241;43m=\u001b[39;49m\u001b[38;5;124;43m'\u001b[39;49m\u001b[38;5;124;43meng\u001b[39;49m\u001b[38;5;124;43m'\u001b[39;49m\u001b[43m)\u001b[49m\n\u001b[1;32m     35\u001b[0m     extracted_text\u001b[38;5;241m.\u001b[39mappend(text)\n\u001b[1;32m     37\u001b[0m \u001b[38;5;28;01mreturn\u001b[39;00m (extracted_text)\n",
      "File \u001b[0;32m~/v3/lib/python3.10/site-packages/pytesseract/pytesseract.py:423\u001b[0m, in \u001b[0;36mimage_to_string\u001b[0;34m(image, lang, config, nice, output_type, timeout)\u001b[0m\n\u001b[1;32m    418\u001b[0m \u001b[39m\"\"\"\u001b[39;00m\n\u001b[1;32m    419\u001b[0m \u001b[39mReturns the result of a Tesseract OCR run on the provided image to string\u001b[39;00m\n\u001b[1;32m    420\u001b[0m \u001b[39m\"\"\"\u001b[39;00m\n\u001b[1;32m    421\u001b[0m args \u001b[39m=\u001b[39m [image, \u001b[39m'\u001b[39m\u001b[39mtxt\u001b[39m\u001b[39m'\u001b[39m, lang, config, nice, timeout]\n\u001b[0;32m--> 423\u001b[0m \u001b[39mreturn\u001b[39;00m {\n\u001b[1;32m    424\u001b[0m     Output\u001b[39m.\u001b[39;49mBYTES: \u001b[39mlambda\u001b[39;49;00m: run_and_get_output(\u001b[39m*\u001b[39;49m(args \u001b[39m+\u001b[39;49m [\u001b[39mTrue\u001b[39;49;00m])),\n\u001b[1;32m    425\u001b[0m     Output\u001b[39m.\u001b[39;49mDICT: \u001b[39mlambda\u001b[39;49;00m: {\u001b[39m'\u001b[39;49m\u001b[39mtext\u001b[39;49m\u001b[39m'\u001b[39;49m: run_and_get_output(\u001b[39m*\u001b[39;49margs)},\n\u001b[1;32m    426\u001b[0m     Output\u001b[39m.\u001b[39;49mSTRING: \u001b[39mlambda\u001b[39;49;00m: run_and_get_output(\u001b[39m*\u001b[39;49margs),\n\u001b[1;32m    427\u001b[0m }[output_type]()\n",
      "File \u001b[0;32m~/v3/lib/python3.10/site-packages/pytesseract/pytesseract.py:426\u001b[0m, in \u001b[0;36mimage_to_string.<locals>.<lambda>\u001b[0;34m()\u001b[0m\n\u001b[1;32m    418\u001b[0m \u001b[39m\"\"\"\u001b[39;00m\n\u001b[1;32m    419\u001b[0m \u001b[39mReturns the result of a Tesseract OCR run on the provided image to string\u001b[39;00m\n\u001b[1;32m    420\u001b[0m \u001b[39m\"\"\"\u001b[39;00m\n\u001b[1;32m    421\u001b[0m args \u001b[39m=\u001b[39m [image, \u001b[39m'\u001b[39m\u001b[39mtxt\u001b[39m\u001b[39m'\u001b[39m, lang, config, nice, timeout]\n\u001b[1;32m    423\u001b[0m \u001b[39mreturn\u001b[39;00m {\n\u001b[1;32m    424\u001b[0m     Output\u001b[39m.\u001b[39mBYTES: \u001b[39mlambda\u001b[39;00m: run_and_get_output(\u001b[39m*\u001b[39m(args \u001b[39m+\u001b[39m [\u001b[39mTrue\u001b[39;00m])),\n\u001b[1;32m    425\u001b[0m     Output\u001b[39m.\u001b[39mDICT: \u001b[39mlambda\u001b[39;00m: {\u001b[39m'\u001b[39m\u001b[39mtext\u001b[39m\u001b[39m'\u001b[39m: run_and_get_output(\u001b[39m*\u001b[39margs)},\n\u001b[0;32m--> 426\u001b[0m     Output\u001b[39m.\u001b[39mSTRING: \u001b[39mlambda\u001b[39;00m: run_and_get_output(\u001b[39m*\u001b[39;49margs),\n\u001b[1;32m    427\u001b[0m }[output_type]()\n",
      "File \u001b[0;32m~/v3/lib/python3.10/site-packages/pytesseract/pytesseract.py:288\u001b[0m, in \u001b[0;36mrun_and_get_output\u001b[0;34m(image, extension, lang, config, nice, timeout, return_bytes)\u001b[0m\n\u001b[1;32m    277\u001b[0m \u001b[39mwith\u001b[39;00m save(image) \u001b[39mas\u001b[39;00m (temp_name, input_filename):\n\u001b[1;32m    278\u001b[0m     kwargs \u001b[39m=\u001b[39m {\n\u001b[1;32m    279\u001b[0m         \u001b[39m'\u001b[39m\u001b[39minput_filename\u001b[39m\u001b[39m'\u001b[39m: input_filename,\n\u001b[1;32m    280\u001b[0m         \u001b[39m'\u001b[39m\u001b[39moutput_filename_base\u001b[39m\u001b[39m'\u001b[39m: temp_name,\n\u001b[0;32m   (...)\u001b[0m\n\u001b[1;32m    285\u001b[0m         \u001b[39m'\u001b[39m\u001b[39mtimeout\u001b[39m\u001b[39m'\u001b[39m: timeout,\n\u001b[1;32m    286\u001b[0m     }\n\u001b[0;32m--> 288\u001b[0m     run_tesseract(\u001b[39m*\u001b[39;49m\u001b[39m*\u001b[39;49mkwargs)\n\u001b[1;32m    289\u001b[0m     filename \u001b[39m=\u001b[39m \u001b[39mf\u001b[39m\u001b[39m\"\u001b[39m\u001b[39m{\u001b[39;00mkwargs[\u001b[39m'\u001b[39m\u001b[39moutput_filename_base\u001b[39m\u001b[39m'\u001b[39m]\u001b[39m}\u001b[39;00m\u001b[39m{\u001b[39;00mextsep\u001b[39m}\u001b[39;00m\u001b[39m{\u001b[39;00mextension\u001b[39m}\u001b[39;00m\u001b[39m\"\u001b[39m\n\u001b[1;32m    290\u001b[0m     \u001b[39mwith\u001b[39;00m \u001b[39mopen\u001b[39m(filename, \u001b[39m'\u001b[39m\u001b[39mrb\u001b[39m\u001b[39m'\u001b[39m) \u001b[39mas\u001b[39;00m output_file:\n",
      "File \u001b[0;32m~/v3/lib/python3.10/site-packages/pytesseract/pytesseract.py:262\u001b[0m, in \u001b[0;36mrun_tesseract\u001b[0;34m(input_filename, output_filename_base, extension, lang, config, nice, timeout)\u001b[0m\n\u001b[1;32m    259\u001b[0m     \u001b[39melse\u001b[39;00m:\n\u001b[1;32m    260\u001b[0m         \u001b[39mraise\u001b[39;00m TesseractNotFoundError()\n\u001b[0;32m--> 262\u001b[0m \u001b[39mwith\u001b[39;00m timeout_manager(proc, timeout) \u001b[39mas\u001b[39;00m error_string:\n\u001b[1;32m    263\u001b[0m     \u001b[39mif\u001b[39;00m proc\u001b[39m.\u001b[39mreturncode:\n\u001b[1;32m    264\u001b[0m         \u001b[39mraise\u001b[39;00m TesseractError(proc\u001b[39m.\u001b[39mreturncode, get_errors(error_string))\n",
      "File \u001b[0;32m/usr/lib/python3.10/contextlib.py:135\u001b[0m, in \u001b[0;36m_GeneratorContextManager.__enter__\u001b[0;34m(self)\u001b[0m\n\u001b[1;32m    133\u001b[0m \u001b[39mdel\u001b[39;00m \u001b[39mself\u001b[39m\u001b[39m.\u001b[39margs, \u001b[39mself\u001b[39m\u001b[39m.\u001b[39mkwds, \u001b[39mself\u001b[39m\u001b[39m.\u001b[39mfunc\n\u001b[1;32m    134\u001b[0m \u001b[39mtry\u001b[39;00m:\n\u001b[0;32m--> 135\u001b[0m     \u001b[39mreturn\u001b[39;00m \u001b[39mnext\u001b[39;49m(\u001b[39mself\u001b[39;49m\u001b[39m.\u001b[39;49mgen)\n\u001b[1;32m    136\u001b[0m \u001b[39mexcept\u001b[39;00m \u001b[39mStopIteration\u001b[39;00m:\n\u001b[1;32m    137\u001b[0m     \u001b[39mraise\u001b[39;00m \u001b[39mRuntimeError\u001b[39;00m(\u001b[39m\"\u001b[39m\u001b[39mgenerator didn\u001b[39m\u001b[39m'\u001b[39m\u001b[39mt yield\u001b[39m\u001b[39m\"\u001b[39m) \u001b[39mfrom\u001b[39;00m \u001b[39mNone\u001b[39m\n",
      "File \u001b[0;32m~/v3/lib/python3.10/site-packages/pytesseract/pytesseract.py:127\u001b[0m, in \u001b[0;36mtimeout_manager\u001b[0;34m(proc, seconds)\u001b[0m\n\u001b[1;32m    125\u001b[0m \u001b[39mtry\u001b[39;00m:\n\u001b[1;32m    126\u001b[0m     \u001b[39mif\u001b[39;00m \u001b[39mnot\u001b[39;00m seconds:\n\u001b[0;32m--> 127\u001b[0m         \u001b[39myield\u001b[39;00m proc\u001b[39m.\u001b[39;49mcommunicate()[\u001b[39m1\u001b[39m]\n\u001b[1;32m    128\u001b[0m         \u001b[39mreturn\u001b[39;00m\n\u001b[1;32m    130\u001b[0m     \u001b[39mtry\u001b[39;00m:\n",
      "File \u001b[0;32m/usr/lib/python3.10/subprocess.py:1152\u001b[0m, in \u001b[0;36mPopen.communicate\u001b[0;34m(self, input, timeout)\u001b[0m\n\u001b[1;32m   1149\u001b[0m     endtime \u001b[39m=\u001b[39m \u001b[39mNone\u001b[39;00m\n\u001b[1;32m   1151\u001b[0m \u001b[39mtry\u001b[39;00m:\n\u001b[0;32m-> 1152\u001b[0m     stdout, stderr \u001b[39m=\u001b[39m \u001b[39mself\u001b[39;49m\u001b[39m.\u001b[39;49m_communicate(\u001b[39minput\u001b[39;49m, endtime, timeout)\n\u001b[1;32m   1153\u001b[0m \u001b[39mexcept\u001b[39;00m \u001b[39mKeyboardInterrupt\u001b[39;00m:\n\u001b[1;32m   1154\u001b[0m     \u001b[39m# https://bugs.python.org/issue25942\u001b[39;00m\n\u001b[1;32m   1155\u001b[0m     \u001b[39m# See the detailed comment in .wait().\u001b[39;00m\n\u001b[1;32m   1156\u001b[0m     \u001b[39mif\u001b[39;00m timeout \u001b[39mis\u001b[39;00m \u001b[39mnot\u001b[39;00m \u001b[39mNone\u001b[39;00m:\n",
      "File \u001b[0;32m/usr/lib/python3.10/subprocess.py:2003\u001b[0m, in \u001b[0;36mPopen._communicate\u001b[0;34m(self, input, endtime, orig_timeout)\u001b[0m\n\u001b[1;32m   1996\u001b[0m     \u001b[39mself\u001b[39m\u001b[39m.\u001b[39m_check_timeout(endtime, orig_timeout,\n\u001b[1;32m   1997\u001b[0m                         stdout, stderr,\n\u001b[1;32m   1998\u001b[0m                         skip_check_and_raise\u001b[39m=\u001b[39m\u001b[39mTrue\u001b[39;00m)\n\u001b[1;32m   1999\u001b[0m     \u001b[39mraise\u001b[39;00m \u001b[39mRuntimeError\u001b[39;00m(  \u001b[39m# Impossible :)\u001b[39;00m\n\u001b[1;32m   2000\u001b[0m         \u001b[39m'\u001b[39m\u001b[39m_check_timeout(..., skip_check_and_raise=True) \u001b[39m\u001b[39m'\u001b[39m\n\u001b[1;32m   2001\u001b[0m         \u001b[39m'\u001b[39m\u001b[39mfailed to raise TimeoutExpired.\u001b[39m\u001b[39m'\u001b[39m)\n\u001b[0;32m-> 2003\u001b[0m ready \u001b[39m=\u001b[39m selector\u001b[39m.\u001b[39;49mselect(timeout)\n\u001b[1;32m   2004\u001b[0m \u001b[39mself\u001b[39m\u001b[39m.\u001b[39m_check_timeout(endtime, orig_timeout, stdout, stderr)\n\u001b[1;32m   2006\u001b[0m \u001b[39m# XXX Rewrite these to use non-blocking I/O on the file\u001b[39;00m\n\u001b[1;32m   2007\u001b[0m \u001b[39m# objects; they are no longer using C stdio!\u001b[39;00m\n",
      "File \u001b[0;32m/usr/lib/python3.10/selectors.py:416\u001b[0m, in \u001b[0;36m_PollLikeSelector.select\u001b[0;34m(self, timeout)\u001b[0m\n\u001b[1;32m    414\u001b[0m ready \u001b[39m=\u001b[39m []\n\u001b[1;32m    415\u001b[0m \u001b[39mtry\u001b[39;00m:\n\u001b[0;32m--> 416\u001b[0m     fd_event_list \u001b[39m=\u001b[39m \u001b[39mself\u001b[39;49m\u001b[39m.\u001b[39;49m_selector\u001b[39m.\u001b[39;49mpoll(timeout)\n\u001b[1;32m    417\u001b[0m \u001b[39mexcept\u001b[39;00m \u001b[39mInterruptedError\u001b[39;00m:\n\u001b[1;32m    418\u001b[0m     \u001b[39mreturn\u001b[39;00m ready\n",
      "\u001b[0;31mKeyboardInterrupt\u001b[0m: "
     ]
    }
   ],
   "source": [
    "# get_text_from_image('./wisconsin_pdfs/Massage Therapist or Bodywork Therapist - WI - ORDER0005767-00014684.pdf)\n",
    "\n",
    "'''\n",
    "print('5668')\n",
    "get_text_from_image('./wisconsin_pdfs/Massage Therapist or Bodywork Therapist - WI - ORDER0005668-00014483.pdf')\n",
    "print('5767')\n",
    "get_text_from_image('./wisconsin_pdfs/Massage Therapist or Bodywork Therapist - WI - ORDER0005767-00014684.pdf')\n",
    "print('5768')\n",
    "get_text_from_image('./wisconsin_pdfs/Massage Therapist or Bodywork Therapist - WI - ORDER0005768-00014685.pdf')\n",
    "'''"
   ]
  },
  {
   "cell_type": "code",
   "execution_count": 61,
   "metadata": {},
   "outputs": [],
   "source": [
    "#!ls ./wisconsin_pdfs"
   ]
  },
  {
   "cell_type": "code",
   "execution_count": 70,
   "metadata": {},
   "outputs": [
    {
     "name": "stdout",
     "output_type": "stream",
     "text": [
      "0 - ./wisconsin_pdfs/Massage Therapist or Bodywork Therapist - WI - ORDER0007990-00019037.pdf\n",
      "0:00:06.704592\n",
      "1 - ./wisconsin_pdfs/Massage Therapist or Bodywork Therapist - WI - ORDER0002000-00008174.pdf\n",
      "0:00:01.578940\n",
      "2 - ./wisconsin_pdfs/Massage Therapist or Bodywork Therapist - WI - ORDER0005767-00014684.pdf\n",
      "0:00:05.485315\n",
      "3 - ./wisconsin_pdfs/Massage Therapist or Bodywork Therapist - WI - ORDER0007403-00018082.pdf\n",
      "0:00:05.620855\n",
      "4 - ./wisconsin_pdfs/Massage Therapist or Bodywork Therapist - WI - ORDER0007700-00018417.pdf\n",
      "0:00:05.091522\n",
      "5 - ./wisconsin_pdfs/Massage Therapist or Bodywork Therapist - WI - ORDER0007990-00019037.pdf\n",
      "0:00:06.750492\n",
      "6 - ./wisconsin_pdfs/Massage Therapist or Bodywork Therapist - WI - ORDER0008135-00019340.pdf\n",
      "0:00:08.205877\n"
     ]
    }
   ],
   "source": [
    "import glob\n",
    "from pathlib import Path\n",
    "import os\n",
    "\n",
    "files = sorted(glob.glob('./wisconsin_pdfs/*.pdf'))#, key=os.path.getmtime)\n",
    "folder = './wisconsin_pdfs'\n",
    "files = [\n",
    "    'Massage Therapist or Bodywork Therapist - WI - ORDER0007990-00019037.pdf',\n",
    "    'Massage Therapist or Bodywork Therapist - WI - ORDER0002000-00008174.pdf',\n",
    "    'Massage Therapist or Bodywork Therapist - WI - ORDER0005767-00014684.pdf',\n",
    "    'Massage Therapist or Bodywork Therapist - WI - ORDER0007403-00018082.pdf',\n",
    "    'Massage Therapist or Bodywork Therapist - WI - ORDER0007700-00018417.pdf',\n",
    "    'Massage Therapist or Bodywork Therapist - WI - ORDER0007990-00019037.pdf',\n",
    "    'Massage Therapist or Bodywork Therapist - WI - ORDER0008135-00019340.pdf', ]\n",
    "files = [os.path.join(folder, fname) for fname in files]\n",
    "\n",
    "for i, file in enumerate(files):\n",
    "    print(f'{i} - {file}')\n",
    "    start_time = datetime.now()\n",
    "\n",
    "    out_fname = Path(file).stem + '.txt'\n",
    "    #if not os.path.exists(out_fname):\n",
    "    with open(out_fname, 'w') as outfile:\n",
    "        outfile.writelines(get_text_from_image(file))\n",
    "\n",
    "    elapsed_time = datetime.now() - start_time\n",
    "    print(f'{elapsed_time}')"
   ]
  },
  {
   "cell_type": "code",
   "execution_count": null,
   "metadata": {},
   "outputs": [],
   "source": [
    "# /etc/ImageMagick-6/policy.xml.\n",
    "# !mv wi_decisions/*.txt wi_decisions/ocr_output_txt/"
   ]
  },
  {
   "cell_type": "code",
   "execution_count": null,
   "metadata": {},
   "outputs": [],
   "source": [
    "!ls -lahS"
   ]
  },
  {
   "cell_type": "code",
   "execution_count": null,
   "metadata": {},
   "outputs": [],
   "source": []
  }
 ],
 "metadata": {
  "kernelspec": {
   "display_name": "Python 3.10.7 ('v3')",
   "language": "python",
   "name": "python3"
  },
  "language_info": {
   "codemirror_mode": {
    "name": "ipython",
    "version": 3
   },
   "file_extension": ".py",
   "mimetype": "text/x-python",
   "name": "python",
   "nbconvert_exporter": "python",
   "pygments_lexer": "ipython3",
   "version": "3.10.7"
  },
  "orig_nbformat": 4,
  "vscode": {
   "interpreter": {
    "hash": "47339dd7c6d4bd32b6c40d54a37ff47f789dc7ff328ffb1f4a95f19daef7217e"
   }
  }
 },
 "nbformat": 4,
 "nbformat_minor": 2
}
