{
 "cells": [
  {
   "cell_type": "code",
   "execution_count": 9,
   "metadata": {},
   "outputs": [],
   "source": [
    "import matplotlib.pyplot as plt\n",
    "import numpy as np\n",
    "import pandas as pd\n",
    "import scipy\n",
    "import seaborn as sns"
   ]
  },
  {
   "cell_type": "code",
   "execution_count": 10,
   "metadata": {},
   "outputs": [
    {
     "data": {
      "text/plain": [
       "['./ocr_output_txt/Massage Therapist Or Bodyworker - WI - ORDER0002114-00007904.txt',\n",
       " './ocr_output_txt/Massage Therapist Or Bodyworker - WI - agency-00075080.txt',\n",
       " './ocr_output_txt/Massage Therapist Or Bodyworker - WI - agency-00100270.txt',\n",
       " './ocr_output_txt/Massage Therapist Or Bodyworker - WI - agency-00100371.txt',\n",
       " './ocr_output_txt/Massage Therapist Or Bodyworker - WI - ls0101241mtb-00073449.txt',\n",
       " './ocr_output_txt/Massage Therapist Or Bodyworker - WI - ls0106121mtb-00076196.txt',\n",
       " './ocr_output_txt/Massage Therapist Or Bodyworker - WI - ls0211221mtb-00075854.txt',\n",
       " './ocr_output_txt/Massage Therapist Or Bodyworker - WI - ls0507061mtb-00066620.txt',\n",
       " './ocr_output_txt/Massage Therapist Or Bodyworker - WI - ls0512095mtb-00069208.txt',\n",
       " './ocr_output_txt/Massage Therapist Or Bodyworker - WI - ls07101710mtb-00069436.txt',\n",
       " './ocr_output_txt/Massage Therapist Or Bodyworker - WI - ls0907031mtb-00004100.txt',\n",
       " './ocr_output_txt/Massage Therapist or Bodywork Therapist - WI - ORDER0000652-00005696.txt',\n",
       " './ocr_output_txt/Massage Therapist or Bodywork Therapist - WI - ORDER0000652-00015091.txt',\n",
       " './ocr_output_txt/Massage Therapist or Bodywork Therapist - WI - ORDER0001080-00006390.txt',\n",
       " './ocr_output_txt/Massage Therapist or Bodywork Therapist - WI - ORDER0002000-00007709.txt',\n",
       " './ocr_output_txt/Massage Therapist or Bodywork Therapist - WI - ORDER0002000-00008174.txt',\n",
       " './ocr_output_txt/Massage Therapist or Bodywork Therapist - WI - ORDER0002001-00007710.txt',\n",
       " './ocr_output_txt/Massage Therapist or Bodywork Therapist - WI - ORDER0002002-00007711.txt',\n",
       " './ocr_output_txt/Massage Therapist or Bodywork Therapist - WI - ORDER0002275-00008173.txt',\n",
       " './ocr_output_txt/Massage Therapist or Bodywork Therapist - WI - ORDER0002551-00008677.txt',\n",
       " './ocr_output_txt/Massage Therapist or Bodywork Therapist - WI - ORDER0002551-00010410.txt',\n",
       " './ocr_output_txt/Massage Therapist or Bodywork Therapist - WI - ORDER0003170-00009748.txt',\n",
       " './ocr_output_txt/Massage Therapist or Bodywork Therapist - WI - ORDER0003174-00009753.txt',\n",
       " './ocr_output_txt/Massage Therapist or Bodywork Therapist - WI - ORDER0003377-00010181.txt',\n",
       " './ocr_output_txt/Massage Therapist or Bodywork Therapist - WI - ORDER0003499-00010411.txt',\n",
       " './ocr_output_txt/Massage Therapist or Bodywork Therapist - WI - ORDER0003713-00010817.txt',\n",
       " './ocr_output_txt/Massage Therapist or Bodywork Therapist - WI - ORDER0004034-00011377.txt',\n",
       " './ocr_output_txt/Massage Therapist or Bodywork Therapist - WI - ORDER0004035-00011378.txt',\n",
       " './ocr_output_txt/Massage Therapist or Bodywork Therapist - WI - ORDER0004035-00012891.txt',\n",
       " './ocr_output_txt/Massage Therapist or Bodywork Therapist - WI - ORDER0004036-00011379.txt',\n",
       " './ocr_output_txt/Massage Therapist or Bodywork Therapist - WI - ORDER0004037-00011380.txt',\n",
       " './ocr_output_txt/Massage Therapist or Bodywork Therapist - WI - ORDER0004379-00012032.txt',\n",
       " './ocr_output_txt/Massage Therapist or Bodywork Therapist - WI - ORDER0004379-00012979.txt',\n",
       " './ocr_output_txt/Massage Therapist or Bodywork Therapist - WI - ORDER0004380-00012033.txt',\n",
       " './ocr_output_txt/Massage Therapist or Bodywork Therapist - WI - ORDER0004381-00012034.txt',\n",
       " './ocr_output_txt/Massage Therapist or Bodywork Therapist - WI - ORDER0004516-00012301.txt',\n",
       " './ocr_output_txt/Massage Therapist or Bodywork Therapist - WI - ORDER0004516-00014045.txt',\n",
       " './ocr_output_txt/Massage Therapist or Bodywork Therapist - WI - ORDER0004517-00012302.txt',\n",
       " './ocr_output_txt/Massage Therapist or Bodywork Therapist - WI - ORDER0004812-00012863.txt',\n",
       " './ocr_output_txt/Massage Therapist or Bodywork Therapist - WI - ORDER0004813-00012864.txt',\n",
       " './ocr_output_txt/Massage Therapist or Bodywork Therapist - WI - ORDER0004814-00012865.txt',\n",
       " './ocr_output_txt/Massage Therapist or Bodywork Therapist - WI - ORDER0004815-00012866.txt',\n",
       " './ocr_output_txt/Massage Therapist or Bodywork Therapist - WI - ORDER0004816-00012867.txt',\n",
       " './ocr_output_txt/Massage Therapist or Bodywork Therapist - WI - ORDER0004816-00015798.txt',\n",
       " './ocr_output_txt/Massage Therapist or Bodywork Therapist - WI - ORDER0004817-00012868.txt',\n",
       " './ocr_output_txt/Massage Therapist or Bodywork Therapist - WI - ORDER0004818-00012869.txt',\n",
       " './ocr_output_txt/Massage Therapist or Bodywork Therapist - WI - ORDER0004818-00014103.txt',\n",
       " './ocr_output_txt/Massage Therapist or Bodywork Therapist - WI - ORDER0004818-00014299.txt',\n",
       " './ocr_output_txt/Massage Therapist or Bodywork Therapist - WI - ORDER0004841-00012916.txt',\n",
       " './ocr_output_txt/Massage Therapist or Bodywork Therapist - WI - ORDER0004841-00013354.txt',\n",
       " './ocr_output_txt/Massage Therapist or Bodywork Therapist - WI - ORDER0004930-00013067.txt',\n",
       " './ocr_output_txt/Massage Therapist or Bodywork Therapist - WI - ORDER0005083-00013355.txt',\n",
       " './ocr_output_txt/Massage Therapist or Bodywork Therapist - WI - ORDER0005084-00013356.txt',\n",
       " './ocr_output_txt/Massage Therapist or Bodywork Therapist - WI - ORDER0005156-00013486.txt',\n",
       " './ocr_output_txt/Massage Therapist or Bodywork Therapist - WI - ORDER0005382-00013910.txt',\n",
       " './ocr_output_txt/Massage Therapist or Bodywork Therapist - WI - ORDER0005382-00014596.txt',\n",
       " './ocr_output_txt/Massage Therapist or Bodywork Therapist - WI - ORDER0005457-00014060.txt',\n",
       " './ocr_output_txt/Massage Therapist or Bodywork Therapist - WI - ORDER0005458-00014061.txt',\n",
       " './ocr_output_txt/Massage Therapist or Bodywork Therapist - WI - ORDER0005458-00014686.txt',\n",
       " './ocr_output_txt/Massage Therapist or Bodywork Therapist - WI - ORDER0005666-00014481.txt',\n",
       " './ocr_output_txt/Massage Therapist or Bodywork Therapist - WI - ORDER0005667-00014482.txt',\n",
       " './ocr_output_txt/Massage Therapist or Bodywork Therapist - WI - ORDER0005668-00014483.txt',\n",
       " './ocr_output_txt/Massage Therapist or Bodywork Therapist - WI - ORDER0005767-00014684.txt',\n",
       " './ocr_output_txt/Massage Therapist or Bodywork Therapist - WI - ORDER0005768-00014685.txt',\n",
       " './ocr_output_txt/Massage Therapist or Bodywork Therapist - WI - ORDER0006203-00015527.txt',\n",
       " './ocr_output_txt/Massage Therapist or Bodywork Therapist - WI - ORDER0006204-00015528.txt',\n",
       " './ocr_output_txt/Massage Therapist or Bodywork Therapist - WI - ORDER0006205-00015529.txt',\n",
       " './ocr_output_txt/Massage Therapist or Bodywork Therapist - WI - ORDER0006206-00015530.txt',\n",
       " './ocr_output_txt/Massage Therapist or Bodywork Therapist - WI - ORDER0006207-00015531.txt',\n",
       " './ocr_output_txt/Massage Therapist or Bodywork Therapist - WI - ORDER0006208-00015532.txt',\n",
       " './ocr_output_txt/Massage Therapist or Bodywork Therapist - WI - ORDER0006209-00015533.txt',\n",
       " './ocr_output_txt/Massage Therapist or Bodywork Therapist - WI - ORDER0006210-00015534.txt',\n",
       " './ocr_output_txt/Massage Therapist or Bodywork Therapist - WI - ORDER0006210-00017244.txt',\n",
       " './ocr_output_txt/Massage Therapist or Bodywork Therapist - WI - ORDER0006261-00015652.txt',\n",
       " './ocr_output_txt/Massage Therapist or Bodywork Therapist - WI - ORDER0006261-00016230.txt',\n",
       " './ocr_output_txt/Massage Therapist or Bodywork Therapist - WI - ORDER0006392-00015897.txt',\n",
       " './ocr_output_txt/Massage Therapist or Bodywork Therapist - WI - ORDER0006725-00016502.txt',\n",
       " './ocr_output_txt/Massage Therapist or Bodywork Therapist - WI - ORDER0006778-00016628.txt',\n",
       " './ocr_output_txt/Massage Therapist or Bodywork Therapist - WI - ORDER0006778-00018171.txt',\n",
       " './ocr_output_txt/Massage Therapist or Bodywork Therapist - WI - ORDER0006778-00018803.txt',\n",
       " './ocr_output_txt/Massage Therapist or Bodywork Therapist - WI - ORDER0006822-00016705.txt',\n",
       " './ocr_output_txt/Massage Therapist or Bodywork Therapist - WI - ORDER0006822-00017135.txt',\n",
       " './ocr_output_txt/Massage Therapist or Bodywork Therapist - WI - ORDER0006959-00016961.txt',\n",
       " './ocr_output_txt/Massage Therapist or Bodywork Therapist - WI - ORDER0006959-00018077.txt',\n",
       " './ocr_output_txt/Massage Therapist or Bodywork Therapist - WI - ORDER0006960-00016962.txt',\n",
       " './ocr_output_txt/Massage Therapist or Bodywork Therapist - WI - ORDER0006960-00017034.txt',\n",
       " './ocr_output_txt/Massage Therapist or Bodywork Therapist - WI - ORDER0006961-00016963.txt',\n",
       " './ocr_output_txt/Massage Therapist or Bodywork Therapist - WI - ORDER0006962-00016964.txt',\n",
       " './ocr_output_txt/Massage Therapist or Bodywork Therapist - WI - ORDER0006966-00016969.txt',\n",
       " './ocr_output_txt/Massage Therapist or Bodywork Therapist - WI - ORDER0006966-00018789.txt',\n",
       " './ocr_output_txt/Massage Therapist or Bodywork Therapist - WI - ORDER0007102-00017242.txt',\n",
       " './ocr_output_txt/Massage Therapist or Bodywork Therapist - WI - ORDER0007102-00017769.txt',\n",
       " './ocr_output_txt/Massage Therapist or Bodywork Therapist - WI - ORDER0007103-00017243.txt',\n",
       " './ocr_output_txt/Massage Therapist or Bodywork Therapist - WI - ORDER0007202-00017406.txt',\n",
       " './ocr_output_txt/Massage Therapist or Bodywork Therapist - WI - ORDER0007271-00017534.txt',\n",
       " './ocr_output_txt/Massage Therapist or Bodywork Therapist - WI - ORDER0007271-00019036.txt',\n",
       " './ocr_output_txt/Massage Therapist or Bodywork Therapist - WI - ORDER0007400-00017787.txt',\n",
       " './ocr_output_txt/Massage Therapist or Bodywork Therapist - WI - ORDER0007400-00018793.txt',\n",
       " './ocr_output_txt/Massage Therapist or Bodywork Therapist - WI - ORDER0007401-00017788.txt',\n",
       " './ocr_output_txt/Massage Therapist or Bodywork Therapist - WI - ORDER0007401-00018796.txt',\n",
       " './ocr_output_txt/Massage Therapist or Bodywork Therapist - WI - ORDER0007402-00017789.txt',\n",
       " './ocr_output_txt/Massage Therapist or Bodywork Therapist - WI - ORDER0007402-00018798.txt',\n",
       " './ocr_output_txt/Massage Therapist or Bodywork Therapist - WI - ORDER0007403-00017790.txt',\n",
       " './ocr_output_txt/Massage Therapist or Bodywork Therapist - WI - ORDER0007403-00018082.txt',\n",
       " './ocr_output_txt/Massage Therapist or Bodywork Therapist - WI - ORDER0007432-00017836.txt',\n",
       " './ocr_output_txt/Massage Therapist or Bodywork Therapist - WI - ORDER0007432-00019660.txt',\n",
       " './ocr_output_txt/Massage Therapist or Bodywork Therapist - WI - ORDER0007565-00018078.txt',\n",
       " './ocr_output_txt/Massage Therapist or Bodywork Therapist - WI - ORDER0007566-00018079.txt',\n",
       " './ocr_output_txt/Massage Therapist or Bodywork Therapist - WI - ORDER0007567-00018080.txt',\n",
       " './ocr_output_txt/Massage Therapist or Bodywork Therapist - WI - ORDER0007568-00018081.txt',\n",
       " './ocr_output_txt/Massage Therapist or Bodywork Therapist - WI - ORDER0007568-00019661.txt',\n",
       " './ocr_output_txt/Massage Therapist or Bodywork Therapist - WI - ORDER0007699-00018416.txt',\n",
       " './ocr_output_txt/Massage Therapist or Bodywork Therapist - WI - ORDER0007700-00018417.txt',\n",
       " './ocr_output_txt/Massage Therapist or Bodywork Therapist - WI - ORDER0007701-00018418.txt',\n",
       " './ocr_output_txt/Massage Therapist or Bodywork Therapist - WI - ORDER0007892-00018790.txt',\n",
       " './ocr_output_txt/Massage Therapist or Bodywork Therapist - WI - ORDER0007892-00019341.txt',\n",
       " './ocr_output_txt/Massage Therapist or Bodywork Therapist - WI - ORDER0007893-00018794.txt',\n",
       " './ocr_output_txt/Massage Therapist or Bodywork Therapist - WI - ORDER0007899-00018818.txt',\n",
       " './ocr_output_txt/Massage Therapist or Bodywork Therapist - WI - ORDER0007989-00019035.txt',\n",
       " './ocr_output_txt/Massage Therapist or Bodywork Therapist - WI - ORDER0007990-00019037.txt',\n",
       " './ocr_output_txt/Massage Therapist or Bodywork Therapist - WI - ORDER0008135-00019340.txt',\n",
       " './ocr_output_txt/Massage Therapist or Bodywork Therapist - WI - ORDER0008271-00019637.txt',\n",
       " './ocr_output_txt/Massage Therapist or Bodywork Therapist - WI - ORDER0008413-00019896.txt',\n",
       " './ocr_output_txt/Massage Therapist or Bodywork Therapist - WI - ORDER0008417-00019904.txt',\n",
       " './ocr_output_txt/Massage Therapist-No longer applicable-see #046 - WI - ls0203062mtb-00071412.txt',\n",
       " './ocr_output_txt/Massage Therapist-No longer applicable-see #046 - WI - ls0204081bac-00100322.txt']"
      ]
     },
     "execution_count": 10,
     "metadata": {},
     "output_type": "execute_result"
    }
   ],
   "source": [
    "import os\n",
    "import glob\n",
    "\n",
    "# past tense is sorted = a function returning an object\n",
    "# other verb =  in-place \n",
    "folder = './ocr_output_txt'\n",
    "list_txts = sorted(glob.glob( os.path.join(folder, '*.txt')))\n",
    "list_txts"
   ]
  },
  {
   "cell_type": "code",
   "execution_count": 11,
   "metadata": {},
   "outputs": [
    {
     "data": {
      "text/plain": [
       "'./ocr_output_txt/Massage Therapist or Bodywork Therapist - WI - ORDER0007892-00018790.txt'"
      ]
     },
     "execution_count": 11,
     "metadata": {},
     "output_type": "execute_result"
    }
   ],
   "source": [
    "list_txts\n",
    "randomizer = np.random.default_rng(seed=0)\n",
    "#samp = list_txts[randomizer.integers(len(list_txts))] \n",
    "randomizer.shuffle(list_txts) \n",
    "sample = list_txts[0]\n",
    "sample\n"
   ]
  },
  {
   "cell_type": "code",
   "execution_count": 13,
   "metadata": {},
   "outputs": [],
   "source": [
    "_f = open(sample)\n",
    "#del(f)"
   ]
  },
  {
   "cell_type": "code",
   "execution_count": 14,
   "metadata": {},
   "outputs": [],
   "source": [
    "def remove_first_page(text:list):\n",
    "    found_idx = None\n",
    "    search_txt = 'inaccurate may contact DSPS@wisconsin.gov'\n",
    "    for idx, line in enumerate(text):\n",
    "        if search_txt in line:\n",
    "            found_idx = idx\n",
    "            return text[found_idx:]\n",
    "    raise ValueError(f'Did not find \"{search_txt}\" in text beginning with:\\n{text[:3]}')"
   ]
  },
  {
   "cell_type": "code",
   "execution_count": 15,
   "metadata": {},
   "outputs": [],
   "source": [
    "def find_statutes(text:list[str]):\n",
    "    pattern = '§'\n",
    "    #pattern = 'dob'\n",
    "    found_lines = []\n",
    "    for idx, line in enumerate(text):\n",
    "        if pattern in line: \n",
    "            #found_lines.append([idx, line])\n",
    "            found_lines.append(line + text[idx+1])\n",
    "    return found_lines"
   ]
  },
  {
   "cell_type": "code",
   "execution_count": 16,
   "metadata": {},
   "outputs": [
    {
     "name": "stdout",
     "output_type": "stream",
     "text": [
      "./ocr_output_txt/Massage Therapist or Bodywork Therapist - WI - ORDER0007892-00018790.txt\n"
     ]
    },
    {
     "data": {
      "text/plain": [
       "['The parties to this proceeding for purposes of Wis, Stat. §§ 227.44, 227.47(1) and 227.53\\nare:\\n',\n",
       " 'consistent with Wis. Admin. Code § SPS 2.08. The Respondent failed to file an answer to the\\nComplaint as required. Wis. Admin. Code § SPS 2.09(4).\\n',\n",
       " 'Complaint as required. Wis. Admin. Code § SPS 2.09(4).\\n\\n',\n",
       " 'Admin. Code §§ SPS 2.14 and HA 1,07(3)(c).\\n\\n',\n",
       " 'address on file with the Department consistent with Wis. Admin. Code § SPS 2.08. The\\nDepartment also emailed the Notice of Hearing and the Complaint to Respondent at her last\\n',\n",
       " 'pursuant to Wis. Admin. Code §§ SPS 2.14 and HA 1,07(3)(c).\\n\\n',\n",
       " 'has the authority to impose discipline against the Respondent pursuant to Wis. Stat. § 460.14,\\n\\n',\n",
       " 'order pursuant to Wis. Stat. § 227.43(1m) and Wis, Admin. Code § SPS 2.10(2).\\n\\n',\n",
       " 'complete upon mailing. Wis. Admin. Code § SPS 2.08(1).\\n\\n',\n",
       " 'pursuant to Wis. Admin. Code § HA 1,03 (The division may serve decisions, orders, notices, and\\nother documents by first class mail.).\\n',\n",
       " 'complaint. Wis. Admin. Code § 2.09(4). If a respondent “fails to answer as required by s. SPS\\n2.09 or fails to appear at hearing at the time fixed therefor, the respondent is in default and the\\n',\n",
       " 'other evidence.” Wis. Admin. Code § SPS 2.14.\\n\\n',\n",
       " 'conference as scheduled. Wis. Admin, Code § HA 1.07(3)(c).\\n\\n',\n",
       " 'license under this chapter...” Wis. Stat. § 460,14(2)(g) and (j), respectively.\\n\\n',\n",
       " 'Wis. Admin. Code §§ MTBT 5.02 (15) and (19).\\n\\n',\n",
       " 'Respondent violated Wis, Admin, Code § MTBT 5.02(15) by engaging in sexually\\nexplicit conduct with an undercover officer posing as a client. Respondent was working as a\\n',\n",
       " 'Respondent violated Wis. Admin. Code § MTBT 5.02(19) by failing to cooperate in a\\ntimely manner with the Board’s investigation after a request by the Board. On May 19, 2021, a\\n',\n",
       " 'Respondent is subject to discipline pursuant to Wis. Stat. § 460,14(2),\\n\\n',\n",
       " 'of this proceeding against Respondent. See Wis. Stat. § 440.22(2). In exercising such discretion,\\nthe Board must look at aggravating and mitigating facts of the case; it may not assess costs\\n',\n",
       " 'determined pursuant to Wis. Admin. Code § SPS 2.18.\\nDHA Case No. SPS-21-008 1\\n',\n",
       " 'matter in an amount to be established, pursuant to Wis. Admin, Code § SPS 2,18. After the\\namount is established, payment shall be made by certified check or money order payable to the\\n']"
      ]
     },
     "metadata": {},
     "output_type": "display_data"
    }
   ],
   "source": [
    "_tmp = None \n",
    "with open(sample) as f:\n",
    "    print(sample)\n",
    "    #print(f.read())\n",
    "    _tmp = remove_first_page(f.readlines())\n",
    "    display(find_statutes(_tmp))\n",
    "    "
   ]
  },
  {
   "cell_type": "code",
   "execution_count": 18,
   "metadata": {},
   "outputs": [
    {
     "name": "stdout",
     "output_type": "stream",
     "text": [
      "./ocr_output_txt/Massage Therapist or Bodywork Therapist - WI - ORDER0007892-00018790.txt\n"
     ]
    },
    {
     "data": {
      "text/plain": [
       "['The parties to this proceeding for purposes of Wis, Stat. §§ 227.44, 227.47(1) and 227.53\\nare:\\n',\n",
       " 'consistent with Wis. Admin. Code § SPS 2.08. The Respondent failed to file an answer to the\\nComplaint as required. Wis. Admin. Code § SPS 2.09(4).\\n',\n",
       " 'Complaint as required. Wis. Admin. Code § SPS 2.09(4).\\n\\n',\n",
       " 'Admin. Code §§ SPS 2.14 and HA 1,07(3)(c).\\n\\n',\n",
       " 'address on file with the Department consistent with Wis. Admin. Code § SPS 2.08. The\\nDepartment also emailed the Notice of Hearing and the Complaint to Respondent at her last\\n',\n",
       " 'pursuant to Wis. Admin. Code §§ SPS 2.14 and HA 1,07(3)(c).\\n\\n',\n",
       " 'has the authority to impose discipline against the Respondent pursuant to Wis. Stat. § 460.14,\\n\\n',\n",
       " 'order pursuant to Wis. Stat. § 227.43(1m) and Wis, Admin. Code § SPS 2.10(2).\\n\\n',\n",
       " 'complete upon mailing. Wis. Admin. Code § SPS 2.08(1).\\n\\n',\n",
       " 'pursuant to Wis. Admin. Code § HA 1,03 (The division may serve decisions, orders, notices, and\\nother documents by first class mail.).\\n',\n",
       " 'complaint. Wis. Admin. Code § 2.09(4). If a respondent “fails to answer as required by s. SPS\\n2.09 or fails to appear at hearing at the time fixed therefor, the respondent is in default and the\\n',\n",
       " 'other evidence.” Wis. Admin. Code § SPS 2.14.\\n\\n',\n",
       " 'conference as scheduled. Wis. Admin, Code § HA 1.07(3)(c).\\n\\n',\n",
       " 'license under this chapter...” Wis. Stat. § 460,14(2)(g) and (j), respectively.\\n\\n',\n",
       " 'Wis. Admin. Code §§ MTBT 5.02 (15) and (19).\\n\\n',\n",
       " 'Respondent violated Wis, Admin, Code § MTBT 5.02(15) by engaging in sexually\\nexplicit conduct with an undercover officer posing as a client. Respondent was working as a\\n',\n",
       " 'Respondent violated Wis. Admin. Code § MTBT 5.02(19) by failing to cooperate in a\\ntimely manner with the Board’s investigation after a request by the Board. On May 19, 2021, a\\n',\n",
       " 'Respondent is subject to discipline pursuant to Wis. Stat. § 460,14(2),\\n\\n',\n",
       " 'of this proceeding against Respondent. See Wis. Stat. § 440.22(2). In exercising such discretion,\\nthe Board must look at aggravating and mitigating facts of the case; it may not assess costs\\n',\n",
       " 'determined pursuant to Wis. Admin. Code § SPS 2.18.\\nDHA Case No. SPS-21-008 1\\n',\n",
       " 'matter in an amount to be established, pursuant to Wis. Admin, Code § SPS 2,18. After the\\namount is established, payment shall be made by certified check or money order payable to the\\n']"
      ]
     },
     "metadata": {},
     "output_type": "display_data"
    },
    {
     "name": "stdout",
     "output_type": "stream",
     "text": [
      "./ocr_output_txt/Massage Therapist or Bodywork Therapist - WI - ORDER0008417-00019904.txt\n"
     ]
    },
    {
     "data": {
      "text/plain": [
       "['The parties to this action for the purpose of Wis. Stat. § 227.53 are:\\n\\n',\n",
       " 'a. Wisconsin Stat. § 460.02 provides that except as\\nprovided in s. 460.03, no person may provide massage\\n',\n",
       " 'therapy by Applicant, in violation of Wis. Stat. § 460.02.\\n\\n',\n",
       " '1. The Board has jurisdiction to act in this matter pursuant to Wis. Stat. § 460.14 and\\nis authorized to enter the attached Stipulation pursuant to Wis. Stat. §§ 15.08(5)(c) and 227.44(5).\\n',\n",
       " 'is authorized to enter the attached Stipulation pursuant to Wis. Stat. §§ 15.08(5)(c) and 227.44(5).\\n\\n',\n",
       " '2. Pursuant to Wis. Stat. §§ 460.14(2)(g) and (j), the Board may deny or limit a\\nmassage therapy of bodywork therapy license if the applicant violated Wis. Stat. ch. 460 or\\n',\n",
       " '§ 460.04(2).\\n\\n',\n",
       " '3. The Injunction establishes that Applicant violated Wis. Stat. § 460.02 by engaging\\nin the unlicensed practice of massage therapy or bodywork therapy.\\n',\n",
       " 'in violation of Wis. Admin. Code § MTBT 5.02(8), which is a rule promulgated under Wis. Stat.\\n§ 460.04(2).\\n',\n",
       " '§ 460.04(2).\\n\\n',\n",
       " 'violation of Wis. Admin. Code § MTBT 5.02(9)(a), which is a rule promulgated under Wis. Stat.\\n§ 460.04(2).\\n',\n",
       " '§ 460.04(2).\\n\\n',\n",
       " 'pursuant to Wis. Stat. §§ 460.14(2)(g) and (j), and Wis. Admin. Code §§ MTBT 5.02(8) and (9).\\n\\n',\n",
       " 'Stat. § 227.01(3)(a), and Applicant shall not have a right to any further hearings or proceedings on\\nthe denial.\\n',\n",
       " 'The parties to this action for the purpose of Wis. Stat, § 227.53 are:\\n\\n',\n",
       " 'SPS 3 and Wis. Stat, § 440.21 and is authorized to enter into the attached Stipulation and Order\\npursuant to Wis. Stat. § 227.4465),\\n',\n",
       " 'pursuant to Wis. Stat. § 227.4465),\\n\\n',\n",
       " 'Be Wisconsin Stat. § 460.02 provides that except as provided in s. 460.03, no person\\nmay provide massage therapy or bodywork therapy, designate himself or herself as a massage\\n',\n",
       " 'massage therapy or bodywork therapy, contrary to Wis. Stat, § 460,02,\\n\\n',\n",
       " 'in a forfeiture of up to $10,000 for each day of violation. See Wis. Stat. § 440.21(4)(a).\\n\\n']"
      ]
     },
     "metadata": {},
     "output_type": "display_data"
    },
    {
     "name": "stdout",
     "output_type": "stream",
     "text": [
      "./ocr_output_txt/Massage Therapist or Bodywork Therapist - WI - ORDER0004516-00014045.txt\n"
     ]
    },
    {
     "data": {
      "text/plain": [
       "[]"
      ]
     },
     "metadata": {},
     "output_type": "display_data"
    },
    {
     "name": "stdout",
     "output_type": "stream",
     "text": [
      "./ocr_output_txt/Massage Therapist or Bodywork Therapist - WI - ORDER0005382-00014596.txt\n"
     ]
    },
    {
     "data": {
      "text/plain": [
       "[]"
      ]
     },
     "metadata": {},
     "output_type": "display_data"
    },
    {
     "name": "stdout",
     "output_type": "stream",
     "text": [
      "./ocr_output_txt/Massage Therapist or Bodywork Therapist - WI - ORDER0007400-00018793.txt\n"
     ]
    },
    {
     "data": {
      "text/plain": [
       "['ordered that pursuant to Wis. Stat. § 440.22, the costs of this proceeding be assessed against\\nRespondent. The Board received the Affidavits of Costs from the Division of Legal Services and\\n',\n",
       " 'Pursuant to Wis. Stat. § 440.22, the costs of this proceeding in the amount of $1,434.70 are\\nassessed against Respondent and shall be payable by Respondent to the Department of Safety and\\n',\n",
       " 'compliance with the terms of this Order. Under Wis. Stat. § 440.22(3), the Department may not\\nrestore, renew or otherwise issue any credential to Respondent until Respondent has made payment\\n']"
      ]
     },
     "metadata": {},
     "output_type": "display_data"
    },
    {
     "name": "stdout",
     "output_type": "stream",
     "text": [
      "./ocr_output_txt/Massage Therapist or Bodywork Therapist - WI - ORDER0001080-00006390.txt\n"
     ]
    },
    {
     "ename": "ValueError",
     "evalue": "Did not find \"inaccurate may contact DSPS@wisconsin.gov\" in text beginning with:\n['STATE OF WISCONSIN\\n', 'MASSAGE THERAPY AND BODYWORK THERAPY AFFILIATED\\n', '\\n']",
     "output_type": "error",
     "traceback": [
      "\u001b[0;31m---------------------------------------------------------------------------\u001b[0m",
      "\u001b[0;31mValueError\u001b[0m                                Traceback (most recent call last)",
      "Cell \u001b[0;32mIn [18], line 4\u001b[0m\n\u001b[1;32m      2\u001b[0m \u001b[38;5;28;01mwith\u001b[39;00m \u001b[38;5;28mopen\u001b[39m(fname) \u001b[38;5;28;01mas\u001b[39;00m f:\n\u001b[1;32m      3\u001b[0m     \u001b[38;5;28mprint\u001b[39m(fname)\n\u001b[0;32m----> 4\u001b[0m     _tmp \u001b[38;5;241m=\u001b[39m \u001b[43mremove_first_page\u001b[49m\u001b[43m(\u001b[49m\u001b[43mf\u001b[49m\u001b[38;5;241;43m.\u001b[39;49m\u001b[43mreadlines\u001b[49m\u001b[43m(\u001b[49m\u001b[43m)\u001b[49m\u001b[43m)\u001b[49m\n\u001b[1;32m      5\u001b[0m     display(find_statutes(_tmp))\n",
      "Cell \u001b[0;32mIn [14], line 8\u001b[0m, in \u001b[0;36mremove_first_page\u001b[0;34m(text)\u001b[0m\n\u001b[1;32m      6\u001b[0m         found_idx \u001b[38;5;241m=\u001b[39m idx\n\u001b[1;32m      7\u001b[0m         \u001b[38;5;28;01mreturn\u001b[39;00m text[found_idx:]\n\u001b[0;32m----> 8\u001b[0m \u001b[38;5;28;01mraise\u001b[39;00m \u001b[38;5;167;01mValueError\u001b[39;00m(\u001b[38;5;124mf\u001b[39m\u001b[38;5;124m'\u001b[39m\u001b[38;5;124mDid not find \u001b[39m\u001b[38;5;124m\"\u001b[39m\u001b[38;5;132;01m{\u001b[39;00msearch_txt\u001b[38;5;132;01m}\u001b[39;00m\u001b[38;5;124m\"\u001b[39m\u001b[38;5;124m in text beginning with:\u001b[39m\u001b[38;5;130;01m\\n\u001b[39;00m\u001b[38;5;132;01m{\u001b[39;00mtext[:\u001b[38;5;241m3\u001b[39m]\u001b[38;5;132;01m}\u001b[39;00m\u001b[38;5;124m'\u001b[39m)\n",
      "\u001b[0;31mValueError\u001b[0m: Did not find \"inaccurate may contact DSPS@wisconsin.gov\" in text beginning with:\n['STATE OF WISCONSIN\\n', 'MASSAGE THERAPY AND BODYWORK THERAPY AFFILIATED\\n', '\\n']"
     ]
    }
   ],
   "source": [
    "for fname in list_txts:\n",
    "    with open(fname) as f:\n",
    "        print(fname)\n",
    "        _tmp = remove_first_page(f.readlines())\n",
    "        display(find_statutes(_tmp))"
   ]
  },
  {
   "cell_type": "code",
   "execution_count": null,
   "metadata": {},
   "outputs": [],
   "source": [
    "with open('./ocr_output_txt/Massage Therapist or Bodywork Therapist - WI - ORDER0007990-00019037.txt') as f:\n",
    "    print(f.readlines())"
   ]
  },
  {
   "cell_type": "code",
   "execution_count": null,
   "metadata": {},
   "outputs": [],
   "source": []
  }
 ],
 "metadata": {
  "kernelspec": {
   "display_name": "Python 3.10.7 ('v3')",
   "language": "python",
   "name": "python3"
  },
  "language_info": {
   "codemirror_mode": {
    "name": "ipython",
    "version": 3
   },
   "file_extension": ".py",
   "mimetype": "text/x-python",
   "name": "python",
   "nbconvert_exporter": "python",
   "pygments_lexer": "ipython3",
   "version": "3.10.7"
  },
  "orig_nbformat": 4,
  "vscode": {
   "interpreter": {
    "hash": "47339dd7c6d4bd32b6c40d54a37ff47f789dc7ff328ffb1f4a95f19daef7217e"
   }
  }
 },
 "nbformat": 4,
 "nbformat_minor": 2
}
